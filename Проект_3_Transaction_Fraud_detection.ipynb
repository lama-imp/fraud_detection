{
  "nbformat": 4,
  "nbformat_minor": 0,
  "metadata": {
    "colab": {
      "name": "Проект 3. Transaction Fraud detection",
      "provenance": []
    },
    "kernelspec": {
      "name": "python3",
      "display_name": "Python 3"
    }
  },
  "cells": [
    {
      "cell_type": "code",
      "metadata": {
        "colab": {
          "base_uri": "https://localhost:8080/"
        },
        "id": "LPF8dwcjYhN4",
        "outputId": "fc2278bd-2ba0-43f0-88b7-98e70efb6ec4"
      },
      "source": [
        "from google.colab import drive\n",
        "drive.mount('/content/drive')"
      ],
      "execution_count": null,
      "outputs": [
        {
          "output_type": "stream",
          "text": [
            "Mounted at /content/drive\n"
          ],
          "name": "stdout"
        }
      ]
    },
    {
      "cell_type": "code",
      "metadata": {
        "id": "JxRDNFknOVdY"
      },
      "source": [
        "import pandas as pd\n",
        "import numpy as np"
      ],
      "execution_count": null,
      "outputs": []
    },
    {
      "cell_type": "code",
      "metadata": {
        "id": "4gZr-KyTLrqi",
        "colab": {
          "base_uri": "https://localhost:8080/",
          "height": 402
        },
        "outputId": "5389a59d-4bcb-49d9-97a6-1c43e274eb7f"
      },
      "source": [
        "data = pd.read_csv('/content/drive/MyDrive/bs140513_032310.csv')\n",
        "data"
      ],
      "execution_count": null,
      "outputs": [
        {
          "output_type": "execute_result",
          "data": {
            "text/html": [
              "<div>\n",
              "<style scoped>\n",
              "    .dataframe tbody tr th:only-of-type {\n",
              "        vertical-align: middle;\n",
              "    }\n",
              "\n",
              "    .dataframe tbody tr th {\n",
              "        vertical-align: top;\n",
              "    }\n",
              "\n",
              "    .dataframe thead th {\n",
              "        text-align: right;\n",
              "    }\n",
              "</style>\n",
              "<table border=\"1\" class=\"dataframe\">\n",
              "  <thead>\n",
              "    <tr style=\"text-align: right;\">\n",
              "      <th></th>\n",
              "      <th>step</th>\n",
              "      <th>customer</th>\n",
              "      <th>age</th>\n",
              "      <th>gender</th>\n",
              "      <th>zipcodeOri</th>\n",
              "      <th>merchant</th>\n",
              "      <th>zipMerchant</th>\n",
              "      <th>category</th>\n",
              "      <th>amount</th>\n",
              "      <th>fraud</th>\n",
              "    </tr>\n",
              "  </thead>\n",
              "  <tbody>\n",
              "    <tr>\n",
              "      <th>0</th>\n",
              "      <td>0</td>\n",
              "      <td>'C1093826151'</td>\n",
              "      <td>'4'</td>\n",
              "      <td>'M'</td>\n",
              "      <td>'28007'</td>\n",
              "      <td>'M348934600'</td>\n",
              "      <td>'28007'</td>\n",
              "      <td>'es_transportation'</td>\n",
              "      <td>4.55</td>\n",
              "      <td>0</td>\n",
              "    </tr>\n",
              "    <tr>\n",
              "      <th>1</th>\n",
              "      <td>0</td>\n",
              "      <td>'C352968107'</td>\n",
              "      <td>'2'</td>\n",
              "      <td>'M'</td>\n",
              "      <td>'28007'</td>\n",
              "      <td>'M348934600'</td>\n",
              "      <td>'28007'</td>\n",
              "      <td>'es_transportation'</td>\n",
              "      <td>39.68</td>\n",
              "      <td>0</td>\n",
              "    </tr>\n",
              "    <tr>\n",
              "      <th>2</th>\n",
              "      <td>0</td>\n",
              "      <td>'C2054744914'</td>\n",
              "      <td>'4'</td>\n",
              "      <td>'F'</td>\n",
              "      <td>'28007'</td>\n",
              "      <td>'M1823072687'</td>\n",
              "      <td>'28007'</td>\n",
              "      <td>'es_transportation'</td>\n",
              "      <td>26.89</td>\n",
              "      <td>0</td>\n",
              "    </tr>\n",
              "    <tr>\n",
              "      <th>3</th>\n",
              "      <td>0</td>\n",
              "      <td>'C1760612790'</td>\n",
              "      <td>'3'</td>\n",
              "      <td>'M'</td>\n",
              "      <td>'28007'</td>\n",
              "      <td>'M348934600'</td>\n",
              "      <td>'28007'</td>\n",
              "      <td>'es_transportation'</td>\n",
              "      <td>17.25</td>\n",
              "      <td>0</td>\n",
              "    </tr>\n",
              "    <tr>\n",
              "      <th>4</th>\n",
              "      <td>0</td>\n",
              "      <td>'C757503768'</td>\n",
              "      <td>'5'</td>\n",
              "      <td>'M'</td>\n",
              "      <td>'28007'</td>\n",
              "      <td>'M348934600'</td>\n",
              "      <td>'28007'</td>\n",
              "      <td>'es_transportation'</td>\n",
              "      <td>35.72</td>\n",
              "      <td>0</td>\n",
              "    </tr>\n",
              "    <tr>\n",
              "      <th>...</th>\n",
              "      <td>...</td>\n",
              "      <td>...</td>\n",
              "      <td>...</td>\n",
              "      <td>...</td>\n",
              "      <td>...</td>\n",
              "      <td>...</td>\n",
              "      <td>...</td>\n",
              "      <td>...</td>\n",
              "      <td>...</td>\n",
              "      <td>...</td>\n",
              "    </tr>\n",
              "    <tr>\n",
              "      <th>594638</th>\n",
              "      <td>179</td>\n",
              "      <td>'C1753498738'</td>\n",
              "      <td>'3'</td>\n",
              "      <td>'F'</td>\n",
              "      <td>'28007'</td>\n",
              "      <td>'M1823072687'</td>\n",
              "      <td>'28007'</td>\n",
              "      <td>'es_transportation'</td>\n",
              "      <td>20.53</td>\n",
              "      <td>0</td>\n",
              "    </tr>\n",
              "    <tr>\n",
              "      <th>594639</th>\n",
              "      <td>179</td>\n",
              "      <td>'C650108285'</td>\n",
              "      <td>'4'</td>\n",
              "      <td>'F'</td>\n",
              "      <td>'28007'</td>\n",
              "      <td>'M1823072687'</td>\n",
              "      <td>'28007'</td>\n",
              "      <td>'es_transportation'</td>\n",
              "      <td>50.73</td>\n",
              "      <td>0</td>\n",
              "    </tr>\n",
              "    <tr>\n",
              "      <th>594640</th>\n",
              "      <td>179</td>\n",
              "      <td>'C123623130'</td>\n",
              "      <td>'2'</td>\n",
              "      <td>'F'</td>\n",
              "      <td>'28007'</td>\n",
              "      <td>'M349281107'</td>\n",
              "      <td>'28007'</td>\n",
              "      <td>'es_fashion'</td>\n",
              "      <td>22.44</td>\n",
              "      <td>0</td>\n",
              "    </tr>\n",
              "    <tr>\n",
              "      <th>594641</th>\n",
              "      <td>179</td>\n",
              "      <td>'C1499363341'</td>\n",
              "      <td>'5'</td>\n",
              "      <td>'M'</td>\n",
              "      <td>'28007'</td>\n",
              "      <td>'M1823072687'</td>\n",
              "      <td>'28007'</td>\n",
              "      <td>'es_transportation'</td>\n",
              "      <td>14.46</td>\n",
              "      <td>0</td>\n",
              "    </tr>\n",
              "    <tr>\n",
              "      <th>594642</th>\n",
              "      <td>179</td>\n",
              "      <td>'C616528518'</td>\n",
              "      <td>'4'</td>\n",
              "      <td>'F'</td>\n",
              "      <td>'28007'</td>\n",
              "      <td>'M1823072687'</td>\n",
              "      <td>'28007'</td>\n",
              "      <td>'es_transportation'</td>\n",
              "      <td>26.93</td>\n",
              "      <td>0</td>\n",
              "    </tr>\n",
              "  </tbody>\n",
              "</table>\n",
              "<p>594643 rows × 10 columns</p>\n",
              "</div>"
            ],
            "text/plain": [
              "        step       customer  age  ...             category amount fraud\n",
              "0          0  'C1093826151'  '4'  ...  'es_transportation'   4.55     0\n",
              "1          0   'C352968107'  '2'  ...  'es_transportation'  39.68     0\n",
              "2          0  'C2054744914'  '4'  ...  'es_transportation'  26.89     0\n",
              "3          0  'C1760612790'  '3'  ...  'es_transportation'  17.25     0\n",
              "4          0   'C757503768'  '5'  ...  'es_transportation'  35.72     0\n",
              "...      ...            ...  ...  ...                  ...    ...   ...\n",
              "594638   179  'C1753498738'  '3'  ...  'es_transportation'  20.53     0\n",
              "594639   179   'C650108285'  '4'  ...  'es_transportation'  50.73     0\n",
              "594640   179   'C123623130'  '2'  ...         'es_fashion'  22.44     0\n",
              "594641   179  'C1499363341'  '5'  ...  'es_transportation'  14.46     0\n",
              "594642   179   'C616528518'  '4'  ...  'es_transportation'  26.93     0\n",
              "\n",
              "[594643 rows x 10 columns]"
            ]
          },
          "metadata": {
            "tags": []
          },
          "execution_count": 3
        }
      ]
    },
    {
      "cell_type": "markdown",
      "metadata": {
        "id": "PZ13CyCLA1tZ"
      },
      "source": [
        "Уберем лишние кавычки."
      ]
    },
    {
      "cell_type": "code",
      "metadata": {
        "colab": {
          "base_uri": "https://localhost:8080/"
        },
        "id": "pQ8GDdO5cQ57",
        "outputId": "909ccedb-9652-4df9-c5de-e49032187b09"
      },
      "source": [
        "data.columns"
      ],
      "execution_count": null,
      "outputs": [
        {
          "output_type": "execute_result",
          "data": {
            "text/plain": [
              "Index(['step', 'customer', 'age', 'gender', 'zipcodeOri', 'merchant',\n",
              "       'zipMerchant', 'category', 'amount', 'fraud'],\n",
              "      dtype='object')"
            ]
          },
          "metadata": {
            "tags": []
          },
          "execution_count": 4
        }
      ]
    },
    {
      "cell_type": "code",
      "metadata": {
        "id": "BVoRD0HHY8VJ"
      },
      "source": [
        "cols_to_edit = ['customer', 'age', 'gender', 'zipcodeOri', 'merchant', 'zipMerchant', 'category'] \n",
        "     \n",
        "data[cols_to_edit] = data[cols_to_edit].replace({\"'\":\"\"}, regex=True)"
      ],
      "execution_count": null,
      "outputs": []
    },
    {
      "cell_type": "code",
      "metadata": {
        "colab": {
          "base_uri": "https://localhost:8080/",
          "height": 195
        },
        "id": "OjsorFlRdE_6",
        "outputId": "ee45b06d-a5f9-44b8-eef9-69e10d9dc2e0"
      },
      "source": [
        "data.head()"
      ],
      "execution_count": null,
      "outputs": [
        {
          "output_type": "execute_result",
          "data": {
            "text/html": [
              "<div>\n",
              "<style scoped>\n",
              "    .dataframe tbody tr th:only-of-type {\n",
              "        vertical-align: middle;\n",
              "    }\n",
              "\n",
              "    .dataframe tbody tr th {\n",
              "        vertical-align: top;\n",
              "    }\n",
              "\n",
              "    .dataframe thead th {\n",
              "        text-align: right;\n",
              "    }\n",
              "</style>\n",
              "<table border=\"1\" class=\"dataframe\">\n",
              "  <thead>\n",
              "    <tr style=\"text-align: right;\">\n",
              "      <th></th>\n",
              "      <th>step</th>\n",
              "      <th>customer</th>\n",
              "      <th>age</th>\n",
              "      <th>gender</th>\n",
              "      <th>zipcodeOri</th>\n",
              "      <th>merchant</th>\n",
              "      <th>zipMerchant</th>\n",
              "      <th>category</th>\n",
              "      <th>amount</th>\n",
              "      <th>fraud</th>\n",
              "    </tr>\n",
              "  </thead>\n",
              "  <tbody>\n",
              "    <tr>\n",
              "      <th>0</th>\n",
              "      <td>0</td>\n",
              "      <td>C1093826151</td>\n",
              "      <td>4</td>\n",
              "      <td>M</td>\n",
              "      <td>28007</td>\n",
              "      <td>M348934600</td>\n",
              "      <td>28007</td>\n",
              "      <td>es_transportation</td>\n",
              "      <td>4.55</td>\n",
              "      <td>0</td>\n",
              "    </tr>\n",
              "    <tr>\n",
              "      <th>1</th>\n",
              "      <td>0</td>\n",
              "      <td>C352968107</td>\n",
              "      <td>2</td>\n",
              "      <td>M</td>\n",
              "      <td>28007</td>\n",
              "      <td>M348934600</td>\n",
              "      <td>28007</td>\n",
              "      <td>es_transportation</td>\n",
              "      <td>39.68</td>\n",
              "      <td>0</td>\n",
              "    </tr>\n",
              "    <tr>\n",
              "      <th>2</th>\n",
              "      <td>0</td>\n",
              "      <td>C2054744914</td>\n",
              "      <td>4</td>\n",
              "      <td>F</td>\n",
              "      <td>28007</td>\n",
              "      <td>M1823072687</td>\n",
              "      <td>28007</td>\n",
              "      <td>es_transportation</td>\n",
              "      <td>26.89</td>\n",
              "      <td>0</td>\n",
              "    </tr>\n",
              "    <tr>\n",
              "      <th>3</th>\n",
              "      <td>0</td>\n",
              "      <td>C1760612790</td>\n",
              "      <td>3</td>\n",
              "      <td>M</td>\n",
              "      <td>28007</td>\n",
              "      <td>M348934600</td>\n",
              "      <td>28007</td>\n",
              "      <td>es_transportation</td>\n",
              "      <td>17.25</td>\n",
              "      <td>0</td>\n",
              "    </tr>\n",
              "    <tr>\n",
              "      <th>4</th>\n",
              "      <td>0</td>\n",
              "      <td>C757503768</td>\n",
              "      <td>5</td>\n",
              "      <td>M</td>\n",
              "      <td>28007</td>\n",
              "      <td>M348934600</td>\n",
              "      <td>28007</td>\n",
              "      <td>es_transportation</td>\n",
              "      <td>35.72</td>\n",
              "      <td>0</td>\n",
              "    </tr>\n",
              "  </tbody>\n",
              "</table>\n",
              "</div>"
            ],
            "text/plain": [
              "   step     customer age gender  ... zipMerchant           category amount fraud\n",
              "0     0  C1093826151   4      M  ...       28007  es_transportation   4.55     0\n",
              "1     0   C352968107   2      M  ...       28007  es_transportation  39.68     0\n",
              "2     0  C2054744914   4      F  ...       28007  es_transportation  26.89     0\n",
              "3     0  C1760612790   3      M  ...       28007  es_transportation  17.25     0\n",
              "4     0   C757503768   5      M  ...       28007  es_transportation  35.72     0\n",
              "\n",
              "[5 rows x 10 columns]"
            ]
          },
          "metadata": {
            "tags": []
          },
          "execution_count": 6
        }
      ]
    },
    {
      "cell_type": "code",
      "metadata": {
        "colab": {
          "base_uri": "https://localhost:8080/"
        },
        "id": "DfW5uQsyeuWR",
        "outputId": "a7789d95-9e7c-46fd-bbc7-3f85a03b9d1b"
      },
      "source": [
        "data.info()"
      ],
      "execution_count": null,
      "outputs": [
        {
          "output_type": "stream",
          "text": [
            "<class 'pandas.core.frame.DataFrame'>\n",
            "RangeIndex: 594643 entries, 0 to 594642\n",
            "Data columns (total 10 columns):\n",
            " #   Column       Non-Null Count   Dtype  \n",
            "---  ------       --------------   -----  \n",
            " 0   step         594643 non-null  int64  \n",
            " 1   customer     594643 non-null  object \n",
            " 2   age          594643 non-null  object \n",
            " 3   gender       594643 non-null  object \n",
            " 4   zipcodeOri   594643 non-null  object \n",
            " 5   merchant     594643 non-null  object \n",
            " 6   zipMerchant  594643 non-null  object \n",
            " 7   category     594643 non-null  object \n",
            " 8   amount       594643 non-null  float64\n",
            " 9   fraud        594643 non-null  int64  \n",
            "dtypes: float64(1), int64(2), object(7)\n",
            "memory usage: 45.4+ MB\n"
          ],
          "name": "stdout"
        }
      ]
    },
    {
      "cell_type": "code",
      "metadata": {
        "colab": {
          "base_uri": "https://localhost:8080/"
        },
        "id": "avTtNC4WA728",
        "outputId": "93b5e721-7611-4025-e2aa-bb869f856da1"
      },
      "source": [
        "data['zipcodeOri'].unique(), data['zipMerchant'].unique()"
      ],
      "execution_count": null,
      "outputs": [
        {
          "output_type": "execute_result",
          "data": {
            "text/plain": [
              "(array(['28007'], dtype=object), array(['28007'], dtype=object))"
            ]
          },
          "metadata": {
            "tags": []
          },
          "execution_count": 8
        }
      ]
    },
    {
      "cell_type": "markdown",
      "metadata": {
        "id": "7beE6uEyA9id"
      },
      "source": [
        "Поскольку все данные о ZIP-коде одинаковые, можно их удалить."
      ]
    },
    {
      "cell_type": "code",
      "metadata": {
        "id": "ZX6bjTk5BHh0"
      },
      "source": [
        "data.drop(columns=['zipcodeOri', 'zipMerchant'], inplace=True)"
      ],
      "execution_count": null,
      "outputs": []
    },
    {
      "cell_type": "markdown",
      "metadata": {
        "id": "3aeI7ShVWEbh"
      },
      "source": [
        "Разделим данные на две части: выделим последние 5000 транзакций в отдельный блок, чтобы можно было оценить алгоритм."
      ]
    },
    {
      "cell_type": "code",
      "metadata": {
        "id": "HyVihLgIVOuZ"
      },
      "source": [
        "eval_data = data.iloc[-5000:].copy()"
      ],
      "execution_count": null,
      "outputs": []
    },
    {
      "cell_type": "code",
      "metadata": {
        "id": "AlBTP5LDWhNA"
      },
      "source": [
        "inv_data = data.iloc[:-5000].copy()"
      ],
      "execution_count": null,
      "outputs": []
    },
    {
      "cell_type": "markdown",
      "metadata": {
        "id": "1ctU1hIdeLI-"
      },
      "source": [
        "Посмотрим на каждую категорию (клиент, возраст, пол и т.д.) и найдём для каждого пункта в этой категории, какой процент от общего числа транзакций составляют мошеннические, может, обнаружим что-то подозрительное."
      ]
    },
    {
      "cell_type": "code",
      "metadata": {
        "id": "gz44cBtW-c12"
      },
      "source": [
        "item_names = ['customer', 'age', 'gender', 'merchant', 'category', 'amount']\n",
        "items = dict()\n",
        "for name in item_names:\n",
        "  temp_df = inv_data.groupby(name)['fraud'].agg(['sum', 'count'])\n",
        "  temp_df['rate'] = temp_df['sum']/temp_df['count']\n",
        "  items[name] = temp_df.sort_values(by='rate', ascending=False)\n"
      ],
      "execution_count": null,
      "outputs": []
    },
    {
      "cell_type": "markdown",
      "metadata": {
        "id": "kmwtqP79ewqO"
      },
      "source": [
        "Посмотрим сначала на категории \"пол\" и \"возраст\"."
      ]
    },
    {
      "cell_type": "code",
      "metadata": {
        "colab": {
          "base_uri": "https://localhost:8080/",
          "height": 195
        },
        "id": "DV9-jfvle2x_",
        "outputId": "7dd8f78c-3e4c-4f48-b673-de372eb741a7"
      },
      "source": [
        "items['gender']"
      ],
      "execution_count": null,
      "outputs": [
        {
          "output_type": "execute_result",
          "data": {
            "text/html": [
              "<div>\n",
              "<style scoped>\n",
              "    .dataframe tbody tr th:only-of-type {\n",
              "        vertical-align: middle;\n",
              "    }\n",
              "\n",
              "    .dataframe tbody tr th {\n",
              "        vertical-align: top;\n",
              "    }\n",
              "\n",
              "    .dataframe thead th {\n",
              "        text-align: right;\n",
              "    }\n",
              "</style>\n",
              "<table border=\"1\" class=\"dataframe\">\n",
              "  <thead>\n",
              "    <tr style=\"text-align: right;\">\n",
              "      <th></th>\n",
              "      <th>sum</th>\n",
              "      <th>count</th>\n",
              "      <th>rate</th>\n",
              "    </tr>\n",
              "    <tr>\n",
              "      <th>gender</th>\n",
              "      <th></th>\n",
              "      <th></th>\n",
              "      <th></th>\n",
              "    </tr>\n",
              "  </thead>\n",
              "  <tbody>\n",
              "    <tr>\n",
              "      <th>F</th>\n",
              "      <td>4719</td>\n",
              "      <td>321803</td>\n",
              "      <td>0.014664</td>\n",
              "    </tr>\n",
              "    <tr>\n",
              "      <th>M</th>\n",
              "      <td>2418</td>\n",
              "      <td>266160</td>\n",
              "      <td>0.009085</td>\n",
              "    </tr>\n",
              "    <tr>\n",
              "      <th>E</th>\n",
              "      <td>7</td>\n",
              "      <td>1168</td>\n",
              "      <td>0.005993</td>\n",
              "    </tr>\n",
              "    <tr>\n",
              "      <th>U</th>\n",
              "      <td>0</td>\n",
              "      <td>512</td>\n",
              "      <td>0.000000</td>\n",
              "    </tr>\n",
              "  </tbody>\n",
              "</table>\n",
              "</div>"
            ],
            "text/plain": [
              "         sum   count      rate\n",
              "gender                        \n",
              "F       4719  321803  0.014664\n",
              "M       2418  266160  0.009085\n",
              "E          7    1168  0.005993\n",
              "U          0     512  0.000000"
            ]
          },
          "metadata": {
            "tags": []
          },
          "execution_count": 13
        }
      ]
    },
    {
      "cell_type": "markdown",
      "metadata": {
        "id": "56IrD9CAfBpo"
      },
      "source": [
        "У женщин доля мошеннических транзакций немного выше, чем у мужчин, но не настолько, чтобы один пол клиента мог вызвать подозрения. Транзакций, где пол неизвестен, слишком мало, чтобы можно было сделать на основании этого какие-то выводы; то же самое можно сказать про организации - кажется, что такие транзакции безопаснее, но их всё-таки слишком мало для определённых выводов."
      ]
    },
    {
      "cell_type": "code",
      "metadata": {
        "colab": {
          "base_uri": "https://localhost:8080/",
          "height": 314
        },
        "id": "ai8m0UiJe8G2",
        "outputId": "dc21d76d-f4cc-44a6-91fd-c138dbdb8f71"
      },
      "source": [
        "items['age']"
      ],
      "execution_count": null,
      "outputs": [
        {
          "output_type": "execute_result",
          "data": {
            "text/html": [
              "<div>\n",
              "<style scoped>\n",
              "    .dataframe tbody tr th:only-of-type {\n",
              "        vertical-align: middle;\n",
              "    }\n",
              "\n",
              "    .dataframe tbody tr th {\n",
              "        vertical-align: top;\n",
              "    }\n",
              "\n",
              "    .dataframe thead th {\n",
              "        text-align: right;\n",
              "    }\n",
              "</style>\n",
              "<table border=\"1\" class=\"dataframe\">\n",
              "  <thead>\n",
              "    <tr style=\"text-align: right;\">\n",
              "      <th></th>\n",
              "      <th>sum</th>\n",
              "      <th>count</th>\n",
              "      <th>rate</th>\n",
              "    </tr>\n",
              "    <tr>\n",
              "      <th>age</th>\n",
              "      <th></th>\n",
              "      <th></th>\n",
              "      <th></th>\n",
              "    </tr>\n",
              "  </thead>\n",
              "  <tbody>\n",
              "    <tr>\n",
              "      <th>0</th>\n",
              "      <td>47</td>\n",
              "      <td>2426</td>\n",
              "      <td>0.019373</td>\n",
              "    </tr>\n",
              "    <tr>\n",
              "      <th>4</th>\n",
              "      <td>1401</td>\n",
              "      <td>108105</td>\n",
              "      <td>0.012960</td>\n",
              "    </tr>\n",
              "    <tr>\n",
              "      <th>2</th>\n",
              "      <td>2329</td>\n",
              "      <td>185757</td>\n",
              "      <td>0.012538</td>\n",
              "    </tr>\n",
              "    <tr>\n",
              "      <th>3</th>\n",
              "      <td>1746</td>\n",
              "      <td>145869</td>\n",
              "      <td>0.011970</td>\n",
              "    </tr>\n",
              "    <tr>\n",
              "      <th>1</th>\n",
              "      <td>678</td>\n",
              "      <td>57640</td>\n",
              "      <td>0.011763</td>\n",
              "    </tr>\n",
              "    <tr>\n",
              "      <th>5</th>\n",
              "      <td>678</td>\n",
              "      <td>62120</td>\n",
              "      <td>0.010914</td>\n",
              "    </tr>\n",
              "    <tr>\n",
              "      <th>6</th>\n",
              "      <td>258</td>\n",
              "      <td>26558</td>\n",
              "      <td>0.009715</td>\n",
              "    </tr>\n",
              "    <tr>\n",
              "      <th>U</th>\n",
              "      <td>7</td>\n",
              "      <td>1168</td>\n",
              "      <td>0.005993</td>\n",
              "    </tr>\n",
              "  </tbody>\n",
              "</table>\n",
              "</div>"
            ],
            "text/plain": [
              "      sum   count      rate\n",
              "age                        \n",
              "0      47    2426  0.019373\n",
              "4    1401  108105  0.012960\n",
              "2    2329  185757  0.012538\n",
              "3    1746  145869  0.011970\n",
              "1     678   57640  0.011763\n",
              "5     678   62120  0.010914\n",
              "6     258   26558  0.009715\n",
              "U       7    1168  0.005993"
            ]
          },
          "metadata": {
            "tags": []
          },
          "execution_count": 14
        }
      ]
    },
    {
      "cell_type": "markdown",
      "metadata": {
        "id": "IGkD8yoHgMSu"
      },
      "source": [
        "В отношении возраста у всех групп примерно одинаковая доля мошеннических транзакций, за исключением категории \"возраст неизвестен\", но таких данных в целом мало."
      ]
    },
    {
      "cell_type": "markdown",
      "metadata": {
        "id": "hocUccxDgjx-"
      },
      "source": [
        "Можно сказать, что возраст и пол не могут служить триггерами."
      ]
    },
    {
      "cell_type": "markdown",
      "metadata": {
        "id": "9OO21_cTgvg2"
      },
      "source": [
        "Теперь посмотрим на клиентов.\n"
      ]
    },
    {
      "cell_type": "code",
      "metadata": {
        "colab": {
          "base_uri": "https://localhost:8080/",
          "height": 431
        },
        "id": "RxpMqDHegyQm",
        "outputId": "27ea9065-5419-4246-c67d-ec6de65bda37"
      },
      "source": [
        "items['customer']"
      ],
      "execution_count": null,
      "outputs": [
        {
          "output_type": "execute_result",
          "data": {
            "text/html": [
              "<div>\n",
              "<style scoped>\n",
              "    .dataframe tbody tr th:only-of-type {\n",
              "        vertical-align: middle;\n",
              "    }\n",
              "\n",
              "    .dataframe tbody tr th {\n",
              "        vertical-align: top;\n",
              "    }\n",
              "\n",
              "    .dataframe thead th {\n",
              "        text-align: right;\n",
              "    }\n",
              "</style>\n",
              "<table border=\"1\" class=\"dataframe\">\n",
              "  <thead>\n",
              "    <tr style=\"text-align: right;\">\n",
              "      <th></th>\n",
              "      <th>sum</th>\n",
              "      <th>count</th>\n",
              "      <th>rate</th>\n",
              "    </tr>\n",
              "    <tr>\n",
              "      <th>customer</th>\n",
              "      <th></th>\n",
              "      <th></th>\n",
              "      <th></th>\n",
              "    </tr>\n",
              "  </thead>\n",
              "  <tbody>\n",
              "    <tr>\n",
              "      <th>C910454738</th>\n",
              "      <td>86</td>\n",
              "      <td>91</td>\n",
              "      <td>0.945055</td>\n",
              "    </tr>\n",
              "    <tr>\n",
              "      <th>C2004941826</th>\n",
              "      <td>119</td>\n",
              "      <td>126</td>\n",
              "      <td>0.944444</td>\n",
              "    </tr>\n",
              "    <tr>\n",
              "      <th>C381007057</th>\n",
              "      <td>87</td>\n",
              "      <td>98</td>\n",
              "      <td>0.887755</td>\n",
              "    </tr>\n",
              "    <tr>\n",
              "      <th>C617723960</th>\n",
              "      <td>39</td>\n",
              "      <td>44</td>\n",
              "      <td>0.886364</td>\n",
              "    </tr>\n",
              "    <tr>\n",
              "      <th>C1572610482</th>\n",
              "      <td>89</td>\n",
              "      <td>101</td>\n",
              "      <td>0.881188</td>\n",
              "    </tr>\n",
              "    <tr>\n",
              "      <th>...</th>\n",
              "      <td>...</td>\n",
              "      <td>...</td>\n",
              "      <td>...</td>\n",
              "    </tr>\n",
              "    <tr>\n",
              "      <th>C1389003663</th>\n",
              "      <td>0</td>\n",
              "      <td>140</td>\n",
              "      <td>0.000000</td>\n",
              "    </tr>\n",
              "    <tr>\n",
              "      <th>C2020967123</th>\n",
              "      <td>0</td>\n",
              "      <td>154</td>\n",
              "      <td>0.000000</td>\n",
              "    </tr>\n",
              "    <tr>\n",
              "      <th>C1388726904</th>\n",
              "      <td>0</td>\n",
              "      <td>176</td>\n",
              "      <td>0.000000</td>\n",
              "    </tr>\n",
              "    <tr>\n",
              "      <th>C1387946894</th>\n",
              "      <td>0</td>\n",
              "      <td>118</td>\n",
              "      <td>0.000000</td>\n",
              "    </tr>\n",
              "    <tr>\n",
              "      <th>C1949440316</th>\n",
              "      <td>0</td>\n",
              "      <td>140</td>\n",
              "      <td>0.000000</td>\n",
              "    </tr>\n",
              "  </tbody>\n",
              "</table>\n",
              "<p>4112 rows × 3 columns</p>\n",
              "</div>"
            ],
            "text/plain": [
              "             sum  count      rate\n",
              "customer                         \n",
              "C910454738    86     91  0.945055\n",
              "C2004941826  119    126  0.944444\n",
              "C381007057    87     98  0.887755\n",
              "C617723960    39     44  0.886364\n",
              "C1572610482   89    101  0.881188\n",
              "...          ...    ...       ...\n",
              "C1389003663    0    140  0.000000\n",
              "C2020967123    0    154  0.000000\n",
              "C1388726904    0    176  0.000000\n",
              "C1387946894    0    118  0.000000\n",
              "C1949440316    0    140  0.000000\n",
              "\n",
              "[4112 rows x 3 columns]"
            ]
          },
          "metadata": {
            "tags": []
          },
          "execution_count": 15
        }
      ]
    },
    {
      "cell_type": "markdown",
      "metadata": {
        "id": "deNKsn3jg6R3"
      },
      "source": [
        "Видно, что есть как клиенты без мошеннических транзакции, так и клиенты, у которых большинство транзакций - мошеннические.\n",
        "\n",
        "Клиентов можно разделить на три группы риска:\n",
        "\n",
        "- те, у кого доля мошеннических транзакций составляет более 60%\n",
        "- те, у кого доля мошеннических транзакций составляет более 20%, но менее 60%\n",
        "- те, у кого доля мошеннических транзакций не более 20%"
      ]
    },
    {
      "cell_type": "code",
      "metadata": {
        "id": "VCuEL4X2je9V"
      },
      "source": [
        "def risk_group(df, column, low_limit, hi_limit):\n",
        "  return df[(df['rate'] > low_limit) & (df['rate'] <= hi_limit)].reset_index()[column].to_list()"
      ],
      "execution_count": null,
      "outputs": []
    },
    {
      "cell_type": "code",
      "metadata": {
        "id": "WSME1m7GiW9G"
      },
      "source": [
        "customer_highrisk = risk_group(items['customer'], 'customer', 0.6, 1)\n",
        "customer_medrisk = risk_group(items['customer'], 'customer', 0.2, 0.6)\n",
        "customer_lowrisk = risk_group(items['customer'], 'customer', 0, 0.2)"
      ],
      "execution_count": null,
      "outputs": []
    },
    {
      "cell_type": "markdown",
      "metadata": {
        "id": "qI2U79Dem2z-"
      },
      "source": [
        "Теперь посмотрим на продавцов."
      ]
    },
    {
      "cell_type": "code",
      "metadata": {
        "colab": {
          "base_uri": "https://localhost:8080/",
          "height": 1000
        },
        "id": "e3pQRIMfm5EF",
        "outputId": "83e96f4f-57f8-4934-9ce6-b9f28704f2e1"
      },
      "source": [
        "items['merchant']"
      ],
      "execution_count": null,
      "outputs": [
        {
          "output_type": "execute_result",
          "data": {
            "text/html": [
              "<div>\n",
              "<style scoped>\n",
              "    .dataframe tbody tr th:only-of-type {\n",
              "        vertical-align: middle;\n",
              "    }\n",
              "\n",
              "    .dataframe tbody tr th {\n",
              "        vertical-align: top;\n",
              "    }\n",
              "\n",
              "    .dataframe thead th {\n",
              "        text-align: right;\n",
              "    }\n",
              "</style>\n",
              "<table border=\"1\" class=\"dataframe\">\n",
              "  <thead>\n",
              "    <tr style=\"text-align: right;\">\n",
              "      <th></th>\n",
              "      <th>sum</th>\n",
              "      <th>count</th>\n",
              "      <th>rate</th>\n",
              "    </tr>\n",
              "    <tr>\n",
              "      <th>merchant</th>\n",
              "      <th></th>\n",
              "      <th></th>\n",
              "      <th></th>\n",
              "    </tr>\n",
              "  </thead>\n",
              "  <tbody>\n",
              "    <tr>\n",
              "      <th>M1294758098</th>\n",
              "      <td>182</td>\n",
              "      <td>189</td>\n",
              "      <td>0.962963</td>\n",
              "    </tr>\n",
              "    <tr>\n",
              "      <th>M3697346</th>\n",
              "      <td>282</td>\n",
              "      <td>300</td>\n",
              "      <td>0.940000</td>\n",
              "    </tr>\n",
              "    <tr>\n",
              "      <th>M1873032707</th>\n",
              "      <td>214</td>\n",
              "      <td>248</td>\n",
              "      <td>0.862903</td>\n",
              "    </tr>\n",
              "    <tr>\n",
              "      <th>M732195782</th>\n",
              "      <td>516</td>\n",
              "      <td>606</td>\n",
              "      <td>0.851485</td>\n",
              "    </tr>\n",
              "    <tr>\n",
              "      <th>M980657600</th>\n",
              "      <td>1466</td>\n",
              "      <td>1763</td>\n",
              "      <td>0.831537</td>\n",
              "    </tr>\n",
              "    <tr>\n",
              "      <th>M1353266412</th>\n",
              "      <td>62</td>\n",
              "      <td>76</td>\n",
              "      <td>0.815789</td>\n",
              "    </tr>\n",
              "    <tr>\n",
              "      <th>M857378720</th>\n",
              "      <td>92</td>\n",
              "      <td>122</td>\n",
              "      <td>0.754098</td>\n",
              "    </tr>\n",
              "    <tr>\n",
              "      <th>M2080407379</th>\n",
              "      <td>36</td>\n",
              "      <td>48</td>\n",
              "      <td>0.750000</td>\n",
              "    </tr>\n",
              "    <tr>\n",
              "      <th>M2011752106</th>\n",
              "      <td>164</td>\n",
              "      <td>242</td>\n",
              "      <td>0.677686</td>\n",
              "    </tr>\n",
              "    <tr>\n",
              "      <th>M17379832</th>\n",
              "      <td>178</td>\n",
              "      <td>280</td>\n",
              "      <td>0.635714</td>\n",
              "    </tr>\n",
              "    <tr>\n",
              "      <th>M2122776122</th>\n",
              "      <td>198</td>\n",
              "      <td>339</td>\n",
              "      <td>0.584071</td>\n",
              "    </tr>\n",
              "    <tr>\n",
              "      <th>M480139044</th>\n",
              "      <td>1622</td>\n",
              "      <td>3492</td>\n",
              "      <td>0.464490</td>\n",
              "    </tr>\n",
              "    <tr>\n",
              "      <th>M1741626453</th>\n",
              "      <td>196</td>\n",
              "      <td>527</td>\n",
              "      <td>0.371917</td>\n",
              "    </tr>\n",
              "    <tr>\n",
              "      <th>M495352832</th>\n",
              "      <td>24</td>\n",
              "      <td>69</td>\n",
              "      <td>0.347826</td>\n",
              "    </tr>\n",
              "    <tr>\n",
              "      <th>M923029380</th>\n",
              "      <td>102</td>\n",
              "      <td>323</td>\n",
              "      <td>0.315789</td>\n",
              "    </tr>\n",
              "    <tr>\n",
              "      <th>M1888755466</th>\n",
              "      <td>224</td>\n",
              "      <td>904</td>\n",
              "      <td>0.247788</td>\n",
              "    </tr>\n",
              "    <tr>\n",
              "      <th>M1198415165</th>\n",
              "      <td>356</td>\n",
              "      <td>1575</td>\n",
              "      <td>0.226032</td>\n",
              "    </tr>\n",
              "    <tr>\n",
              "      <th>M933210764</th>\n",
              "      <td>12</td>\n",
              "      <td>69</td>\n",
              "      <td>0.173913</td>\n",
              "    </tr>\n",
              "    <tr>\n",
              "      <th>M1748431652</th>\n",
              "      <td>34</td>\n",
              "      <td>271</td>\n",
              "      <td>0.125461</td>\n",
              "    </tr>\n",
              "    <tr>\n",
              "      <th>M547558035</th>\n",
              "      <td>116</td>\n",
              "      <td>944</td>\n",
              "      <td>0.122881</td>\n",
              "    </tr>\n",
              "    <tr>\n",
              "      <th>M840466850</th>\n",
              "      <td>156</td>\n",
              "      <td>1390</td>\n",
              "      <td>0.112230</td>\n",
              "    </tr>\n",
              "    <tr>\n",
              "      <th>M1649169323</th>\n",
              "      <td>124</td>\n",
              "      <td>1166</td>\n",
              "      <td>0.106346</td>\n",
              "    </tr>\n",
              "    <tr>\n",
              "      <th>M348875670</th>\n",
              "      <td>10</td>\n",
              "      <td>107</td>\n",
              "      <td>0.093458</td>\n",
              "    </tr>\n",
              "    <tr>\n",
              "      <th>M1535107174</th>\n",
              "      <td>170</td>\n",
              "      <td>1861</td>\n",
              "      <td>0.091349</td>\n",
              "    </tr>\n",
              "    <tr>\n",
              "      <th>M50039827</th>\n",
              "      <td>46</td>\n",
              "      <td>913</td>\n",
              "      <td>0.050383</td>\n",
              "    </tr>\n",
              "    <tr>\n",
              "      <th>M855959430</th>\n",
              "      <td>280</td>\n",
              "      <td>6069</td>\n",
              "      <td>0.046136</td>\n",
              "    </tr>\n",
              "    <tr>\n",
              "      <th>M78078399</th>\n",
              "      <td>44</td>\n",
              "      <td>1604</td>\n",
              "      <td>0.027431</td>\n",
              "    </tr>\n",
              "    <tr>\n",
              "      <th>M209847108</th>\n",
              "      <td>104</td>\n",
              "      <td>3803</td>\n",
              "      <td>0.027347</td>\n",
              "    </tr>\n",
              "    <tr>\n",
              "      <th>M151143676</th>\n",
              "      <td>118</td>\n",
              "      <td>6347</td>\n",
              "      <td>0.018591</td>\n",
              "    </tr>\n",
              "    <tr>\n",
              "      <th>M692898500</th>\n",
              "      <td>16</td>\n",
              "      <td>898</td>\n",
              "      <td>0.017817</td>\n",
              "    </tr>\n",
              "    <tr>\n",
              "      <th>M1313686961</th>\n",
              "      <td>0</td>\n",
              "      <td>521</td>\n",
              "      <td>0.000000</td>\n",
              "    </tr>\n",
              "    <tr>\n",
              "      <th>M97925176</th>\n",
              "      <td>0</td>\n",
              "      <td>597</td>\n",
              "      <td>0.000000</td>\n",
              "    </tr>\n",
              "    <tr>\n",
              "      <th>M1600850729</th>\n",
              "      <td>0</td>\n",
              "      <td>2606</td>\n",
              "      <td>0.000000</td>\n",
              "    </tr>\n",
              "    <tr>\n",
              "      <th>M1726401631</th>\n",
              "      <td>0</td>\n",
              "      <td>3</td>\n",
              "      <td>0.000000</td>\n",
              "    </tr>\n",
              "    <tr>\n",
              "      <th>M85975013</th>\n",
              "      <td>0</td>\n",
              "      <td>25961</td>\n",
              "      <td>0.000000</td>\n",
              "    </tr>\n",
              "    <tr>\n",
              "      <th>M1788569036</th>\n",
              "      <td>0</td>\n",
              "      <td>180</td>\n",
              "      <td>0.000000</td>\n",
              "    </tr>\n",
              "    <tr>\n",
              "      <th>M1823072687</th>\n",
              "      <td>0</td>\n",
              "      <td>296385</td>\n",
              "      <td>0.000000</td>\n",
              "    </tr>\n",
              "    <tr>\n",
              "      <th>M1842530320</th>\n",
              "      <td>0</td>\n",
              "      <td>747</td>\n",
              "      <td>0.000000</td>\n",
              "    </tr>\n",
              "    <tr>\n",
              "      <th>M1872033263</th>\n",
              "      <td>0</td>\n",
              "      <td>520</td>\n",
              "      <td>0.000000</td>\n",
              "    </tr>\n",
              "    <tr>\n",
              "      <th>M1400236507</th>\n",
              "      <td>0</td>\n",
              "      <td>773</td>\n",
              "      <td>0.000000</td>\n",
              "    </tr>\n",
              "    <tr>\n",
              "      <th>M348934600</th>\n",
              "      <td>0</td>\n",
              "      <td>204462</td>\n",
              "      <td>0.000000</td>\n",
              "    </tr>\n",
              "    <tr>\n",
              "      <th>M677738360</th>\n",
              "      <td>0</td>\n",
              "      <td>356</td>\n",
              "      <td>0.000000</td>\n",
              "    </tr>\n",
              "    <tr>\n",
              "      <th>M1416436880</th>\n",
              "      <td>0</td>\n",
              "      <td>218</td>\n",
              "      <td>0.000000</td>\n",
              "    </tr>\n",
              "    <tr>\n",
              "      <th>M1913465890</th>\n",
              "      <td>0</td>\n",
              "      <td>3930</td>\n",
              "      <td>0.000000</td>\n",
              "    </tr>\n",
              "    <tr>\n",
              "      <th>M1946091778</th>\n",
              "      <td>0</td>\n",
              "      <td>5288</td>\n",
              "      <td>0.000000</td>\n",
              "    </tr>\n",
              "    <tr>\n",
              "      <th>M117188757</th>\n",
              "      <td>0</td>\n",
              "      <td>20</td>\n",
              "      <td>0.000000</td>\n",
              "    </tr>\n",
              "    <tr>\n",
              "      <th>M45060432</th>\n",
              "      <td>0</td>\n",
              "      <td>566</td>\n",
              "      <td>0.000000</td>\n",
              "    </tr>\n",
              "    <tr>\n",
              "      <th>M1352454843</th>\n",
              "      <td>0</td>\n",
              "      <td>368</td>\n",
              "      <td>0.000000</td>\n",
              "    </tr>\n",
              "    <tr>\n",
              "      <th>M349281107</th>\n",
              "      <td>0</td>\n",
              "      <td>2851</td>\n",
              "      <td>0.000000</td>\n",
              "    </tr>\n",
              "    <tr>\n",
              "      <th>M1053599405</th>\n",
              "      <td>0</td>\n",
              "      <td>6746</td>\n",
              "      <td>0.000000</td>\n",
              "    </tr>\n",
              "  </tbody>\n",
              "</table>\n",
              "</div>"
            ],
            "text/plain": [
              "              sum   count      rate\n",
              "merchant                           \n",
              "M1294758098   182     189  0.962963\n",
              "M3697346      282     300  0.940000\n",
              "M1873032707   214     248  0.862903\n",
              "M732195782    516     606  0.851485\n",
              "M980657600   1466    1763  0.831537\n",
              "M1353266412    62      76  0.815789\n",
              "M857378720     92     122  0.754098\n",
              "M2080407379    36      48  0.750000\n",
              "M2011752106   164     242  0.677686\n",
              "M17379832     178     280  0.635714\n",
              "M2122776122   198     339  0.584071\n",
              "M480139044   1622    3492  0.464490\n",
              "M1741626453   196     527  0.371917\n",
              "M495352832     24      69  0.347826\n",
              "M923029380    102     323  0.315789\n",
              "M1888755466   224     904  0.247788\n",
              "M1198415165   356    1575  0.226032\n",
              "M933210764     12      69  0.173913\n",
              "M1748431652    34     271  0.125461\n",
              "M547558035    116     944  0.122881\n",
              "M840466850    156    1390  0.112230\n",
              "M1649169323   124    1166  0.106346\n",
              "M348875670     10     107  0.093458\n",
              "M1535107174   170    1861  0.091349\n",
              "M50039827      46     913  0.050383\n",
              "M855959430    280    6069  0.046136\n",
              "M78078399      44    1604  0.027431\n",
              "M209847108    104    3803  0.027347\n",
              "M151143676    118    6347  0.018591\n",
              "M692898500     16     898  0.017817\n",
              "M1313686961     0     521  0.000000\n",
              "M97925176       0     597  0.000000\n",
              "M1600850729     0    2606  0.000000\n",
              "M1726401631     0       3  0.000000\n",
              "M85975013       0   25961  0.000000\n",
              "M1788569036     0     180  0.000000\n",
              "M1823072687     0  296385  0.000000\n",
              "M1842530320     0     747  0.000000\n",
              "M1872033263     0     520  0.000000\n",
              "M1400236507     0     773  0.000000\n",
              "M348934600      0  204462  0.000000\n",
              "M677738360      0     356  0.000000\n",
              "M1416436880     0     218  0.000000\n",
              "M1913465890     0    3930  0.000000\n",
              "M1946091778     0    5288  0.000000\n",
              "M117188757      0      20  0.000000\n",
              "M45060432       0     566  0.000000\n",
              "M1352454843     0     368  0.000000\n",
              "M349281107      0    2851  0.000000\n",
              "M1053599405     0    6746  0.000000"
            ]
          },
          "metadata": {
            "tags": []
          },
          "execution_count": 18
        }
      ]
    },
    {
      "cell_type": "markdown",
      "metadata": {
        "id": "BfY_7i5VnCqt"
      },
      "source": [
        "Также поделим их на группы риска (с критериями, аналогичными применёнными к клиентам)."
      ]
    },
    {
      "cell_type": "code",
      "metadata": {
        "id": "Ja8D9JhgnKxF"
      },
      "source": [
        "merchant_highrisk = risk_group(items['merchant'], 'merchant', 0.6, 1)\n",
        "merchant_medrisk = risk_group(items['merchant'], 'merchant', 0.2, 0.6)\n",
        "merchant_lowrisk = risk_group(items['merchant'], 'merchant', 0, 0.2)"
      ],
      "execution_count": null,
      "outputs": []
    },
    {
      "cell_type": "markdown",
      "metadata": {
        "id": "rYlzTscunmg1"
      },
      "source": [
        "Посмотрим на категории транзакций."
      ]
    },
    {
      "cell_type": "code",
      "metadata": {
        "colab": {
          "base_uri": "https://localhost:8080/",
          "height": 521
        },
        "id": "-iyBFkoHnl8V",
        "outputId": "2eca5507-ebf2-4c28-a19c-8118c523577a"
      },
      "source": [
        "items['category']"
      ],
      "execution_count": null,
      "outputs": [
        {
          "output_type": "execute_result",
          "data": {
            "text/html": [
              "<div>\n",
              "<style scoped>\n",
              "    .dataframe tbody tr th:only-of-type {\n",
              "        vertical-align: middle;\n",
              "    }\n",
              "\n",
              "    .dataframe tbody tr th {\n",
              "        vertical-align: top;\n",
              "    }\n",
              "\n",
              "    .dataframe thead th {\n",
              "        text-align: right;\n",
              "    }\n",
              "</style>\n",
              "<table border=\"1\" class=\"dataframe\">\n",
              "  <thead>\n",
              "    <tr style=\"text-align: right;\">\n",
              "      <th></th>\n",
              "      <th>sum</th>\n",
              "      <th>count</th>\n",
              "      <th>rate</th>\n",
              "    </tr>\n",
              "    <tr>\n",
              "      <th>category</th>\n",
              "      <th></th>\n",
              "      <th></th>\n",
              "      <th></th>\n",
              "    </tr>\n",
              "  </thead>\n",
              "  <tbody>\n",
              "    <tr>\n",
              "      <th>es_leisure</th>\n",
              "      <td>464</td>\n",
              "      <td>489</td>\n",
              "      <td>0.948875</td>\n",
              "    </tr>\n",
              "    <tr>\n",
              "      <th>es_travel</th>\n",
              "      <td>576</td>\n",
              "      <td>726</td>\n",
              "      <td>0.793388</td>\n",
              "    </tr>\n",
              "    <tr>\n",
              "      <th>es_sportsandtoys</th>\n",
              "      <td>1976</td>\n",
              "      <td>3985</td>\n",
              "      <td>0.495859</td>\n",
              "    </tr>\n",
              "    <tr>\n",
              "      <th>es_hotelservices</th>\n",
              "      <td>542</td>\n",
              "      <td>1729</td>\n",
              "      <td>0.313476</td>\n",
              "    </tr>\n",
              "    <tr>\n",
              "      <th>es_otherservices</th>\n",
              "      <td>224</td>\n",
              "      <td>904</td>\n",
              "      <td>0.247788</td>\n",
              "    </tr>\n",
              "    <tr>\n",
              "      <th>es_home</th>\n",
              "      <td>300</td>\n",
              "      <td>1975</td>\n",
              "      <td>0.151899</td>\n",
              "    </tr>\n",
              "    <tr>\n",
              "      <th>es_health</th>\n",
              "      <td>1684</td>\n",
              "      <td>15979</td>\n",
              "      <td>0.105388</td>\n",
              "    </tr>\n",
              "    <tr>\n",
              "      <th>es_tech</th>\n",
              "      <td>156</td>\n",
              "      <td>2355</td>\n",
              "      <td>0.066242</td>\n",
              "    </tr>\n",
              "    <tr>\n",
              "      <th>es_wellnessandbeauty</th>\n",
              "      <td>708</td>\n",
              "      <td>14999</td>\n",
              "      <td>0.047203</td>\n",
              "    </tr>\n",
              "    <tr>\n",
              "      <th>es_hyper</th>\n",
              "      <td>280</td>\n",
              "      <td>6069</td>\n",
              "      <td>0.046136</td>\n",
              "    </tr>\n",
              "    <tr>\n",
              "      <th>es_barsandrestaurants</th>\n",
              "      <td>118</td>\n",
              "      <td>6347</td>\n",
              "      <td>0.018591</td>\n",
              "    </tr>\n",
              "    <tr>\n",
              "      <th>es_fashion</th>\n",
              "      <td>116</td>\n",
              "      <td>6401</td>\n",
              "      <td>0.018122</td>\n",
              "    </tr>\n",
              "    <tr>\n",
              "      <th>es_contents</th>\n",
              "      <td>0</td>\n",
              "      <td>877</td>\n",
              "      <td>0.000000</td>\n",
              "    </tr>\n",
              "    <tr>\n",
              "      <th>es_food</th>\n",
              "      <td>0</td>\n",
              "      <td>25961</td>\n",
              "      <td>0.000000</td>\n",
              "    </tr>\n",
              "    <tr>\n",
              "      <th>es_transportation</th>\n",
              "      <td>0</td>\n",
              "      <td>500847</td>\n",
              "      <td>0.000000</td>\n",
              "    </tr>\n",
              "  </tbody>\n",
              "</table>\n",
              "</div>"
            ],
            "text/plain": [
              "                        sum   count      rate\n",
              "category                                     \n",
              "es_leisure              464     489  0.948875\n",
              "es_travel               576     726  0.793388\n",
              "es_sportsandtoys       1976    3985  0.495859\n",
              "es_hotelservices        542    1729  0.313476\n",
              "es_otherservices        224     904  0.247788\n",
              "es_home                 300    1975  0.151899\n",
              "es_health              1684   15979  0.105388\n",
              "es_tech                 156    2355  0.066242\n",
              "es_wellnessandbeauty    708   14999  0.047203\n",
              "es_hyper                280    6069  0.046136\n",
              "es_barsandrestaurants   118    6347  0.018591\n",
              "es_fashion              116    6401  0.018122\n",
              "es_contents               0     877  0.000000\n",
              "es_food                   0   25961  0.000000\n",
              "es_transportation         0  500847  0.000000"
            ]
          },
          "metadata": {
            "tags": []
          },
          "execution_count": 20
        }
      ]
    },
    {
      "cell_type": "markdown",
      "metadata": {
        "id": "5xXZOV7noCO0"
      },
      "source": [
        "Также разобьём их на группы, но в данной ситуации немного изменим критерии, чтобы категория \"es_sportsandtoys\" тоже попадала в группу высокого риска."
      ]
    },
    {
      "cell_type": "code",
      "metadata": {
        "id": "jVt0Z3O5oF1-"
      },
      "source": [
        "category_highrisk = risk_group(items['category'], 'category', 0.49, 1)\n",
        "category_medrisk = risk_group(items['category'], 'category', 0.2, 0.49)\n",
        "category_lowrisk = risk_group(items['category'], 'category', 0, 0.2)"
      ],
      "execution_count": null,
      "outputs": []
    },
    {
      "cell_type": "markdown",
      "metadata": {
        "id": "v5_rqJHMoRI9"
      },
      "source": [
        "Посмотрим на суммы транзакций."
      ]
    },
    {
      "cell_type": "code",
      "metadata": {
        "colab": {
          "base_uri": "https://localhost:8080/",
          "height": 431
        },
        "id": "TzPg1djNpc4V",
        "outputId": "87e6debe-4060-48c6-ee0b-ebebd6e2245c"
      },
      "source": [
        "items['amount'].sort_values('sum', ascending=False)"
      ],
      "execution_count": null,
      "outputs": [
        {
          "output_type": "execute_result",
          "data": {
            "text/html": [
              "<div>\n",
              "<style scoped>\n",
              "    .dataframe tbody tr th:only-of-type {\n",
              "        vertical-align: middle;\n",
              "    }\n",
              "\n",
              "    .dataframe tbody tr th {\n",
              "        vertical-align: top;\n",
              "    }\n",
              "\n",
              "    .dataframe thead th {\n",
              "        text-align: right;\n",
              "    }\n",
              "</style>\n",
              "<table border=\"1\" class=\"dataframe\">\n",
              "  <thead>\n",
              "    <tr style=\"text-align: right;\">\n",
              "      <th></th>\n",
              "      <th>sum</th>\n",
              "      <th>count</th>\n",
              "      <th>rate</th>\n",
              "    </tr>\n",
              "    <tr>\n",
              "      <th>amount</th>\n",
              "      <th></th>\n",
              "      <th></th>\n",
              "      <th></th>\n",
              "    </tr>\n",
              "  </thead>\n",
              "  <tbody>\n",
              "    <tr>\n",
              "      <th>159.82</th>\n",
              "      <td>4</td>\n",
              "      <td>5</td>\n",
              "      <td>0.80</td>\n",
              "    </tr>\n",
              "    <tr>\n",
              "      <th>245.34</th>\n",
              "      <td>3</td>\n",
              "      <td>3</td>\n",
              "      <td>1.00</td>\n",
              "    </tr>\n",
              "    <tr>\n",
              "      <th>126.51</th>\n",
              "      <td>3</td>\n",
              "      <td>4</td>\n",
              "      <td>0.75</td>\n",
              "    </tr>\n",
              "    <tr>\n",
              "      <th>354.65</th>\n",
              "      <td>3</td>\n",
              "      <td>3</td>\n",
              "      <td>1.00</td>\n",
              "    </tr>\n",
              "    <tr>\n",
              "      <th>139.60</th>\n",
              "      <td>3</td>\n",
              "      <td>3</td>\n",
              "      <td>1.00</td>\n",
              "    </tr>\n",
              "    <tr>\n",
              "      <th>...</th>\n",
              "      <td>...</td>\n",
              "      <td>...</td>\n",
              "      <td>...</td>\n",
              "    </tr>\n",
              "    <tr>\n",
              "      <th>200.08</th>\n",
              "      <td>0</td>\n",
              "      <td>1</td>\n",
              "      <td>0.00</td>\n",
              "    </tr>\n",
              "    <tr>\n",
              "      <th>200.10</th>\n",
              "      <td>0</td>\n",
              "      <td>2</td>\n",
              "      <td>0.00</td>\n",
              "    </tr>\n",
              "    <tr>\n",
              "      <th>200.11</th>\n",
              "      <td>0</td>\n",
              "      <td>1</td>\n",
              "      <td>0.00</td>\n",
              "    </tr>\n",
              "    <tr>\n",
              "      <th>200.15</th>\n",
              "      <td>0</td>\n",
              "      <td>1</td>\n",
              "      <td>0.00</td>\n",
              "    </tr>\n",
              "    <tr>\n",
              "      <th>121.46</th>\n",
              "      <td>0</td>\n",
              "      <td>1</td>\n",
              "      <td>0.00</td>\n",
              "    </tr>\n",
              "  </tbody>\n",
              "</table>\n",
              "<p>23679 rows × 3 columns</p>\n",
              "</div>"
            ],
            "text/plain": [
              "        sum  count  rate\n",
              "amount                  \n",
              "159.82    4      5  0.80\n",
              "245.34    3      3  1.00\n",
              "126.51    3      4  0.75\n",
              "354.65    3      3  1.00\n",
              "139.60    3      3  1.00\n",
              "...     ...    ...   ...\n",
              "200.08    0      1  0.00\n",
              "200.10    0      2  0.00\n",
              "200.11    0      1  0.00\n",
              "200.15    0      1  0.00\n",
              "121.46    0      1  0.00\n",
              "\n",
              "[23679 rows x 3 columns]"
            ]
          },
          "metadata": {
            "tags": []
          },
          "execution_count": 22
        }
      ]
    },
    {
      "cell_type": "markdown",
      "metadata": {
        "id": "CaszJap_po6N"
      },
      "source": [
        "Из этих данных сделать какие-то вы воды на основании суммы транзакции не получится."
      ]
    },
    {
      "cell_type": "markdown",
      "metadata": {
        "id": "EXWyDYRIJEP5"
      },
      "source": [
        "Напишем функции, которые считают оцнку риска для клиена, продавца и категории, а также функцию, которая принимает решение о том, мошенническая ли транзакция, на основании суммы рисков. \n",
        "\n",
        "Мошенническими считаются транзакции с суммой рисков больше 2."
      ]
    },
    {
      "cell_type": "code",
      "metadata": {
        "id": "mELDr51orYe8"
      },
      "source": [
        "def customer_evaluate(customer_id):\n",
        "  if customer_id in customer_highrisk:\n",
        "    return 3\n",
        "  elif customer_id in customer_medrisk:\n",
        "    return 2\n",
        "  elif customer_id in customer_lowrisk:\n",
        "    return 1\n",
        "  else:\n",
        "    return 0"
      ],
      "execution_count": null,
      "outputs": []
    },
    {
      "cell_type": "code",
      "metadata": {
        "id": "wF56qVuBr0k8"
      },
      "source": [
        "def merchant_evaluate(merchant_id):\n",
        "  if merchant_id in merchant_highrisk:\n",
        "    return 3\n",
        "  elif merchant_id in merchant_medrisk:\n",
        "    return 2\n",
        "  elif merchant_id in merchant_lowrisk:\n",
        "    return 1\n",
        "  else:\n",
        "    return 0"
      ],
      "execution_count": null,
      "outputs": []
    },
    {
      "cell_type": "code",
      "metadata": {
        "id": "swb5_kNHsEcF"
      },
      "source": [
        "def category_evaluate(category_id):\n",
        "  if category_id in category_highrisk:\n",
        "    return 3\n",
        "  elif category_id in category_medrisk:\n",
        "    return 2\n",
        "  elif category_id in category_lowrisk:\n",
        "    return 1\n",
        "  else:\n",
        "    return 0"
      ],
      "execution_count": null,
      "outputs": []
    },
    {
      "cell_type": "code",
      "metadata": {
        "id": "wvTnxAvXq9jN"
      },
      "source": [
        "def detect_fraud(row):\n",
        "  sum = customer_evaluate(row['customer']) + merchant_evaluate(row['merchant']) + category_evaluate(row['category'])\n",
        "  if sum > 2:\n",
        "    return 1\n",
        "  else:\n",
        "    return 0"
      ],
      "execution_count": null,
      "outputs": []
    },
    {
      "cell_type": "code",
      "metadata": {
        "id": "rKU13aH8sgYc"
      },
      "source": [
        "eval_data['fraud_prediction'] = eval_data.apply(detect_fraud, axis=1)"
      ],
      "execution_count": null,
      "outputs": []
    },
    {
      "cell_type": "markdown",
      "metadata": {
        "id": "TDtlXbpI7bdF"
      },
      "source": [
        "Оценим получившийся результат с помощью метрик  precision, recall и f1_score."
      ]
    },
    {
      "cell_type": "code",
      "metadata": {
        "id": "3nHaDJDn7jbH"
      },
      "source": [
        "from sklearn.metrics import precision_score, recall_score, f1_score"
      ],
      "execution_count": null,
      "outputs": []
    },
    {
      "cell_type": "code",
      "metadata": {
        "colab": {
          "base_uri": "https://localhost:8080/"
        },
        "id": "LGqbuWkB8Buy",
        "outputId": "7206f8fc-0426-456c-a3e2-284f8ed1a76f"
      },
      "source": [
        "alg_precision = precision_score(eval_data['fraud'], eval_data['fraud_prediction'])\n",
        "alg_recall = recall_score(eval_data['fraud'], eval_data['fraud_prediction'])\n",
        "alg_f1_score = f1_score(eval_data['fraud'], eval_data['fraud_prediction'])\n",
        "print(\n",
        "    'Precision', alg_precision, '\\nRecall', alg_recall, '\\nF1 score', alg_f1_score\n",
        ")"
      ],
      "execution_count": null,
      "outputs": [
        {
          "output_type": "stream",
          "text": [
            "Precision 0.38405797101449274 \n",
            "Recall 0.9464285714285714 \n",
            "F1 score 0.5463917525773196\n"
          ],
          "name": "stdout"
        }
      ]
    },
    {
      "cell_type": "markdown",
      "metadata": {
        "id": "CkYPLQXR9x3U"
      },
      "source": [
        "По метрикам видно, что такой алгоритм хорошо находит настоящие мошеннические транзакции, но у него также много ложноположительных результатов, то есть он считает большинство транзакций мошенническими; клиентов такой подход не обрадует).\n",
        "\n",
        "Попробуем изменить параметры, по которым рассчитывается результат (изменим значение суммы с 2 до 3), и посчитаем метрики."
      ]
    },
    {
      "cell_type": "code",
      "metadata": {
        "id": "4sQwYcGH-LfB"
      },
      "source": [
        "def detect_fraud_2(row):\n",
        "  sum = customer_evaluate(row['customer']) + merchant_evaluate(row['merchant']) + category_evaluate(row['category'])\n",
        "  if sum > 3:\n",
        "    return 1\n",
        "  else:\n",
        "    return 0"
      ],
      "execution_count": null,
      "outputs": []
    },
    {
      "cell_type": "code",
      "metadata": {
        "id": "fpWgCBkF-TEh"
      },
      "source": [
        "eval_data['fraud_prediction_2'] = eval_data.apply(detect_fraud_2, axis=1)"
      ],
      "execution_count": null,
      "outputs": []
    },
    {
      "cell_type": "code",
      "metadata": {
        "id": "6YipW789-bHS"
      },
      "source": [
        "alg_precision_2 = precision_score(eval_data['fraud'], eval_data['fraud_prediction_2'])\n",
        "alg_recall_2 = recall_score(eval_data['fraud'], eval_data['fraud_prediction_2'])\n",
        "alg_f1_score_2 = f1_score(eval_data['fraud'], eval_data['fraud_prediction_2'])"
      ],
      "execution_count": null,
      "outputs": []
    },
    {
      "cell_type": "markdown",
      "metadata": {
        "id": "OWUig0_UHQbk"
      },
      "source": [
        "Составим таблицу, куда будем записывать метрики всех моделей."
      ]
    },
    {
      "cell_type": "code",
      "metadata": {
        "colab": {
          "base_uri": "https://localhost:8080/",
          "height": 166
        },
        "id": "2wqqAwxvFmZM",
        "outputId": "b4c524d2-ac30-4549-ec98-28692183e932"
      },
      "source": [
        "metrics = pd.DataFrame()\n",
        "metrics['metrics'] = ['precision', 'recall', 'f1_score']\n",
        "metrics.set_index('metrics', inplace=True)\n",
        "metrics['Algorythm (sum > 3)'] = [alg_precision_2, alg_recall_2, alg_f1_score_2]\n",
        "metrics"
      ],
      "execution_count": null,
      "outputs": [
        {
          "output_type": "execute_result",
          "data": {
            "text/html": [
              "<div>\n",
              "<style scoped>\n",
              "    .dataframe tbody tr th:only-of-type {\n",
              "        vertical-align: middle;\n",
              "    }\n",
              "\n",
              "    .dataframe tbody tr th {\n",
              "        vertical-align: top;\n",
              "    }\n",
              "\n",
              "    .dataframe thead th {\n",
              "        text-align: right;\n",
              "    }\n",
              "</style>\n",
              "<table border=\"1\" class=\"dataframe\">\n",
              "  <thead>\n",
              "    <tr style=\"text-align: right;\">\n",
              "      <th></th>\n",
              "      <th>Algorythm (sum &gt; 3)</th>\n",
              "    </tr>\n",
              "    <tr>\n",
              "      <th>metrics</th>\n",
              "      <th></th>\n",
              "    </tr>\n",
              "  </thead>\n",
              "  <tbody>\n",
              "    <tr>\n",
              "      <th>precision</th>\n",
              "      <td>0.623377</td>\n",
              "    </tr>\n",
              "    <tr>\n",
              "      <th>recall</th>\n",
              "      <td>0.857143</td>\n",
              "    </tr>\n",
              "    <tr>\n",
              "      <th>f1_score</th>\n",
              "      <td>0.721805</td>\n",
              "    </tr>\n",
              "  </tbody>\n",
              "</table>\n",
              "</div>"
            ],
            "text/plain": [
              "           Algorythm (sum > 3)\n",
              "metrics                       \n",
              "precision             0.623377\n",
              "recall                0.857143\n",
              "f1_score              0.721805"
            ]
          },
          "metadata": {
            "tags": []
          },
          "execution_count": 59
        }
      ]
    },
    {
      "cell_type": "markdown",
      "metadata": {
        "id": "yJmBy1OI-iqy"
      },
      "source": [
        "Как и ожидалось, полнота уменьшилась, а точность возросла почти в два раза. Оставим такие метрики в качестве baseline."
      ]
    },
    {
      "cell_type": "markdown",
      "metadata": {
        "id": "cOtYThkxCq3h"
      },
      "source": [
        "Для обучения модели подготовим данные и разделим на обучающую и валидационную выборки."
      ]
    },
    {
      "cell_type": "code",
      "metadata": {
        "colab": {
          "base_uri": "https://localhost:8080/",
          "height": 195
        },
        "id": "W0hLBubMHkUx",
        "outputId": "7e5bc0a1-c38e-4104-debd-b202e8e820ed"
      },
      "source": [
        "data.head()"
      ],
      "execution_count": null,
      "outputs": [
        {
          "output_type": "execute_result",
          "data": {
            "text/html": [
              "<div>\n",
              "<style scoped>\n",
              "    .dataframe tbody tr th:only-of-type {\n",
              "        vertical-align: middle;\n",
              "    }\n",
              "\n",
              "    .dataframe tbody tr th {\n",
              "        vertical-align: top;\n",
              "    }\n",
              "\n",
              "    .dataframe thead th {\n",
              "        text-align: right;\n",
              "    }\n",
              "</style>\n",
              "<table border=\"1\" class=\"dataframe\">\n",
              "  <thead>\n",
              "    <tr style=\"text-align: right;\">\n",
              "      <th></th>\n",
              "      <th>step</th>\n",
              "      <th>customer</th>\n",
              "      <th>age</th>\n",
              "      <th>gender</th>\n",
              "      <th>merchant</th>\n",
              "      <th>category</th>\n",
              "      <th>amount</th>\n",
              "      <th>fraud</th>\n",
              "    </tr>\n",
              "  </thead>\n",
              "  <tbody>\n",
              "    <tr>\n",
              "      <th>0</th>\n",
              "      <td>0</td>\n",
              "      <td>C1093826151</td>\n",
              "      <td>4</td>\n",
              "      <td>M</td>\n",
              "      <td>M348934600</td>\n",
              "      <td>es_transportation</td>\n",
              "      <td>4.55</td>\n",
              "      <td>0</td>\n",
              "    </tr>\n",
              "    <tr>\n",
              "      <th>1</th>\n",
              "      <td>0</td>\n",
              "      <td>C352968107</td>\n",
              "      <td>2</td>\n",
              "      <td>M</td>\n",
              "      <td>M348934600</td>\n",
              "      <td>es_transportation</td>\n",
              "      <td>39.68</td>\n",
              "      <td>0</td>\n",
              "    </tr>\n",
              "    <tr>\n",
              "      <th>2</th>\n",
              "      <td>0</td>\n",
              "      <td>C2054744914</td>\n",
              "      <td>4</td>\n",
              "      <td>F</td>\n",
              "      <td>M1823072687</td>\n",
              "      <td>es_transportation</td>\n",
              "      <td>26.89</td>\n",
              "      <td>0</td>\n",
              "    </tr>\n",
              "    <tr>\n",
              "      <th>3</th>\n",
              "      <td>0</td>\n",
              "      <td>C1760612790</td>\n",
              "      <td>3</td>\n",
              "      <td>M</td>\n",
              "      <td>M348934600</td>\n",
              "      <td>es_transportation</td>\n",
              "      <td>17.25</td>\n",
              "      <td>0</td>\n",
              "    </tr>\n",
              "    <tr>\n",
              "      <th>4</th>\n",
              "      <td>0</td>\n",
              "      <td>C757503768</td>\n",
              "      <td>5</td>\n",
              "      <td>M</td>\n",
              "      <td>M348934600</td>\n",
              "      <td>es_transportation</td>\n",
              "      <td>35.72</td>\n",
              "      <td>0</td>\n",
              "    </tr>\n",
              "  </tbody>\n",
              "</table>\n",
              "</div>"
            ],
            "text/plain": [
              "   step     customer age gender     merchant           category  amount  fraud\n",
              "0     0  C1093826151   4      M   M348934600  es_transportation    4.55      0\n",
              "1     0   C352968107   2      M   M348934600  es_transportation   39.68      0\n",
              "2     0  C2054744914   4      F  M1823072687  es_transportation   26.89      0\n",
              "3     0  C1760612790   3      M   M348934600  es_transportation   17.25      0\n",
              "4     0   C757503768   5      M   M348934600  es_transportation   35.72      0"
            ]
          },
          "metadata": {
            "tags": []
          },
          "execution_count": 36
        }
      ]
    },
    {
      "cell_type": "code",
      "metadata": {
        "id": "l_AgPUsMJ2Mp"
      },
      "source": [
        "data['age'].replace('U', 7, inplace=True)"
      ],
      "execution_count": null,
      "outputs": []
    },
    {
      "cell_type": "code",
      "metadata": {
        "id": "KgM6azdmKa03"
      },
      "source": [
        "data['age'] = data['age'].astype('int32')"
      ],
      "execution_count": null,
      "outputs": []
    },
    {
      "cell_type": "code",
      "metadata": {
        "colab": {
          "base_uri": "https://localhost:8080/"
        },
        "id": "x8tKixLkKntY",
        "outputId": "1b2206ed-9c8f-40cd-8994-e3ae32dda70c"
      },
      "source": [
        "data.info()"
      ],
      "execution_count": null,
      "outputs": [
        {
          "output_type": "stream",
          "text": [
            "<class 'pandas.core.frame.DataFrame'>\n",
            "RangeIndex: 594643 entries, 0 to 594642\n",
            "Data columns (total 8 columns):\n",
            " #   Column    Non-Null Count   Dtype  \n",
            "---  ------    --------------   -----  \n",
            " 0   step      594643 non-null  int64  \n",
            " 1   customer  594643 non-null  object \n",
            " 2   age       594643 non-null  int32  \n",
            " 3   gender    594643 non-null  object \n",
            " 4   merchant  594643 non-null  object \n",
            " 5   category  594643 non-null  object \n",
            " 6   amount    594643 non-null  float64\n",
            " 7   fraud     594643 non-null  int64  \n",
            "dtypes: float64(1), int32(1), int64(2), object(4)\n",
            "memory usage: 34.0+ MB\n"
          ],
          "name": "stdout"
        }
      ]
    },
    {
      "cell_type": "markdown",
      "metadata": {
        "id": "kIfsYdzcKyEA"
      },
      "source": [
        "Применим функцию, которая кодирует числовыми значениями категориальные признаки."
      ]
    },
    {
      "cell_type": "code",
      "metadata": {
        "id": "tUJ6JF9nKhS5"
      },
      "source": [
        "from sklearn import preprocessing\n",
        "\n",
        "def number_encode_features(init_df):\n",
        "    result = init_df.copy()\n",
        "    encoders = {}\n",
        "    for column in result.columns:\n",
        "        if result.dtypes[column] == np.object:\n",
        "            encoders[column] = preprocessing.LabelEncoder()\n",
        "            result[column] = encoders[column].fit_transform(result[column])\n",
        "    return result, encoders"
      ],
      "execution_count": null,
      "outputs": []
    },
    {
      "cell_type": "code",
      "metadata": {
        "colab": {
          "base_uri": "https://localhost:8080/",
          "height": 195
        },
        "id": "fTZ1j__fLC4_",
        "outputId": "929084a8-c8fe-4db6-80aa-0ad1e73f1226"
      },
      "source": [
        "encoded_data, encoders = number_encode_features(data)\n",
        "encoded_data.head() "
      ],
      "execution_count": null,
      "outputs": [
        {
          "output_type": "execute_result",
          "data": {
            "text/html": [
              "<div>\n",
              "<style scoped>\n",
              "    .dataframe tbody tr th:only-of-type {\n",
              "        vertical-align: middle;\n",
              "    }\n",
              "\n",
              "    .dataframe tbody tr th {\n",
              "        vertical-align: top;\n",
              "    }\n",
              "\n",
              "    .dataframe thead th {\n",
              "        text-align: right;\n",
              "    }\n",
              "</style>\n",
              "<table border=\"1\" class=\"dataframe\">\n",
              "  <thead>\n",
              "    <tr style=\"text-align: right;\">\n",
              "      <th></th>\n",
              "      <th>step</th>\n",
              "      <th>customer</th>\n",
              "      <th>age</th>\n",
              "      <th>gender</th>\n",
              "      <th>merchant</th>\n",
              "      <th>category</th>\n",
              "      <th>amount</th>\n",
              "      <th>fraud</th>\n",
              "    </tr>\n",
              "  </thead>\n",
              "  <tbody>\n",
              "    <tr>\n",
              "      <th>0</th>\n",
              "      <td>0</td>\n",
              "      <td>210</td>\n",
              "      <td>4</td>\n",
              "      <td>2</td>\n",
              "      <td>30</td>\n",
              "      <td>12</td>\n",
              "      <td>4.55</td>\n",
              "      <td>0</td>\n",
              "    </tr>\n",
              "    <tr>\n",
              "      <th>1</th>\n",
              "      <td>0</td>\n",
              "      <td>2753</td>\n",
              "      <td>2</td>\n",
              "      <td>2</td>\n",
              "      <td>30</td>\n",
              "      <td>12</td>\n",
              "      <td>39.68</td>\n",
              "      <td>0</td>\n",
              "    </tr>\n",
              "    <tr>\n",
              "      <th>2</th>\n",
              "      <td>0</td>\n",
              "      <td>2285</td>\n",
              "      <td>4</td>\n",
              "      <td>1</td>\n",
              "      <td>18</td>\n",
              "      <td>12</td>\n",
              "      <td>26.89</td>\n",
              "      <td>0</td>\n",
              "    </tr>\n",
              "    <tr>\n",
              "      <th>3</th>\n",
              "      <td>0</td>\n",
              "      <td>1650</td>\n",
              "      <td>3</td>\n",
              "      <td>2</td>\n",
              "      <td>30</td>\n",
              "      <td>12</td>\n",
              "      <td>17.25</td>\n",
              "      <td>0</td>\n",
              "    </tr>\n",
              "    <tr>\n",
              "      <th>4</th>\n",
              "      <td>0</td>\n",
              "      <td>3585</td>\n",
              "      <td>5</td>\n",
              "      <td>2</td>\n",
              "      <td>30</td>\n",
              "      <td>12</td>\n",
              "      <td>35.72</td>\n",
              "      <td>0</td>\n",
              "    </tr>\n",
              "  </tbody>\n",
              "</table>\n",
              "</div>"
            ],
            "text/plain": [
              "   step  customer  age  gender  merchant  category  amount  fraud\n",
              "0     0       210    4       2        30        12    4.55      0\n",
              "1     0      2753    2       2        30        12   39.68      0\n",
              "2     0      2285    4       1        18        12   26.89      0\n",
              "3     0      1650    3       2        30        12   17.25      0\n",
              "4     0      3585    5       2        30        12   35.72      0"
            ]
          },
          "metadata": {
            "tags": []
          },
          "execution_count": 41
        }
      ]
    },
    {
      "cell_type": "code",
      "metadata": {
        "id": "aSy8kEHZCqZ5"
      },
      "source": [
        "y = encoded_data['fraud']\n",
        "train_data = encoded_data.drop(columns='fraud')"
      ],
      "execution_count": null,
      "outputs": []
    },
    {
      "cell_type": "code",
      "metadata": {
        "id": "LFAyPUXRC7mk"
      },
      "source": [
        "from sklearn.model_selection import train_test_split\n",
        "train_X, val_X, train_y, val_y = train_test_split(train_data, y)"
      ],
      "execution_count": null,
      "outputs": []
    },
    {
      "cell_type": "markdown",
      "metadata": {
        "id": "jmauTVIAmrPI"
      },
      "source": [
        "Попробуем обучить модели из следущего списка; посмотрим, какие будут метрики при стандартных параметрах.\n",
        "\n",
        "Модели:\n",
        "\n",
        "* Logistic Regression\n",
        "* Naive Bayes\n",
        "* Decision Tree\n",
        "* Support Vector Machines"
      ]
    },
    {
      "cell_type": "code",
      "metadata": {
        "id": "rBPfZzfunUQZ"
      },
      "source": [
        "from sklearn.linear_model import LogisticRegression\n",
        "from sklearn.naive_bayes import MultinomialNB\n",
        "from sklearn.tree import DecisionTreeClassifier\n",
        "from sklearn.svm import LinearSVC"
      ],
      "execution_count": null,
      "outputs": []
    },
    {
      "cell_type": "code",
      "metadata": {
        "id": "qaXUZu03nKBY"
      },
      "source": [
        "models = {\n",
        "    'Logistic Regression': LogisticRegression(),\n",
        "    'Naive Bayes': MultinomialNB(),\n",
        "    'Decision Tree': DecisionTreeClassifier(),\n",
        "    'Support Vector Machines': LinearSVC()\n",
        "}"
      ],
      "execution_count": null,
      "outputs": []
    },
    {
      "cell_type": "code",
      "metadata": {
        "colab": {
          "base_uri": "https://localhost:8080/"
        },
        "id": "ZWoQnkJKolhp",
        "outputId": "a2382825-be0a-4842-f12f-ae3d2fec1d21"
      },
      "source": [
        "from tqdm import tqdm\n",
        "\n",
        "for model_name in tqdm(models.keys()):\n",
        "  model = models[model_name]\n",
        "  model.fit(train_X, train_y)\n",
        "  predictions = model.predict(val_X)\n",
        "  model_precision = precision_score(val_y, predictions)\n",
        "  model_recall = recall_score(val_y, predictions)\n",
        "  model_f1_score = f1_score(val_y, predictions)\n",
        "  metrics[model_name] = [model_precision, model_recall, model_f1_score]"
      ],
      "execution_count": null,
      "outputs": [
        {
          "output_type": "stream",
          "text": [
            "\n",
            "  0%|          | 0/4 [00:00<?, ?it/s]\u001b[A/usr/local/lib/python3.7/dist-packages/sklearn/linear_model/_logistic.py:940: ConvergenceWarning: lbfgs failed to converge (status=1):\n",
            "STOP: TOTAL NO. of ITERATIONS REACHED LIMIT.\n",
            "\n",
            "Increase the number of iterations (max_iter) or scale the data as shown in:\n",
            "    https://scikit-learn.org/stable/modules/preprocessing.html\n",
            "Please also refer to the documentation for alternative solver options:\n",
            "    https://scikit-learn.org/stable/modules/linear_model.html#logistic-regression\n",
            "  extra_warning_msg=_LOGISTIC_SOLVER_CONVERGENCE_MSG)\n",
            "\n",
            " 25%|██▌       | 1/4 [00:06<00:20,  6.88s/it]\u001b[A\n",
            " 50%|█████     | 2/4 [00:07<00:09,  4.90s/it]\u001b[A\n",
            " 75%|███████▌  | 3/4 [00:08<00:03,  3.93s/it]\u001b[A/usr/local/lib/python3.7/dist-packages/sklearn/svm/_base.py:947: ConvergenceWarning: Liblinear failed to converge, increase the number of iterations.\n",
            "  \"the number of iterations.\", ConvergenceWarning)\n",
            "\n",
            "100%|██████████| 4/4 [02:02<00:00, 30.71s/it]\n"
          ],
          "name": "stderr"
        }
      ]
    },
    {
      "cell_type": "markdown",
      "metadata": {
        "id": "2hL2KF6PqBTg"
      },
      "source": [
        "Посмотрим на получившиеся метрики."
      ]
    },
    {
      "cell_type": "code",
      "metadata": {
        "colab": {
          "base_uri": "https://localhost:8080/",
          "height": 166
        },
        "id": "1uZOhxxFqD6f",
        "outputId": "82642f7f-1e83-4a14-97de-66a7862cda3b"
      },
      "source": [
        "metrics"
      ],
      "execution_count": null,
      "outputs": [
        {
          "output_type": "execute_result",
          "data": {
            "text/html": [
              "<div>\n",
              "<style scoped>\n",
              "    .dataframe tbody tr th:only-of-type {\n",
              "        vertical-align: middle;\n",
              "    }\n",
              "\n",
              "    .dataframe tbody tr th {\n",
              "        vertical-align: top;\n",
              "    }\n",
              "\n",
              "    .dataframe thead th {\n",
              "        text-align: right;\n",
              "    }\n",
              "</style>\n",
              "<table border=\"1\" class=\"dataframe\">\n",
              "  <thead>\n",
              "    <tr style=\"text-align: right;\">\n",
              "      <th></th>\n",
              "      <th>Algorythm (sum &gt; 3)</th>\n",
              "      <th>Logistic Regression</th>\n",
              "      <th>Naive Bayes</th>\n",
              "      <th>Decision Tree</th>\n",
              "      <th>Support Vector Machines</th>\n",
              "    </tr>\n",
              "    <tr>\n",
              "      <th>metrics</th>\n",
              "      <th></th>\n",
              "      <th></th>\n",
              "      <th></th>\n",
              "      <th></th>\n",
              "      <th></th>\n",
              "    </tr>\n",
              "  </thead>\n",
              "  <tbody>\n",
              "    <tr>\n",
              "      <th>precision</th>\n",
              "      <td>0.623377</td>\n",
              "      <td>0.801413</td>\n",
              "      <td>0.124723</td>\n",
              "      <td>0.762486</td>\n",
              "      <td>0.933265</td>\n",
              "    </tr>\n",
              "    <tr>\n",
              "      <th>recall</th>\n",
              "      <td>0.857143</td>\n",
              "      <td>0.546867</td>\n",
              "      <td>0.723621</td>\n",
              "      <td>0.735940</td>\n",
              "      <td>0.486877</td>\n",
              "    </tr>\n",
              "    <tr>\n",
              "      <th>f1_score</th>\n",
              "      <td>0.721805</td>\n",
              "      <td>0.650111</td>\n",
              "      <td>0.212773</td>\n",
              "      <td>0.748978</td>\n",
              "      <td>0.639916</td>\n",
              "    </tr>\n",
              "  </tbody>\n",
              "</table>\n",
              "</div>"
            ],
            "text/plain": [
              "           Algorythm (sum > 3)  ...  Support Vector Machines\n",
              "metrics                         ...                         \n",
              "precision             0.623377  ...                 0.933265\n",
              "recall                0.857143  ...                 0.486877\n",
              "f1_score              0.721805  ...                 0.639916\n",
              "\n",
              "[3 rows x 5 columns]"
            ]
          },
          "metadata": {
            "tags": []
          },
          "execution_count": 61
        }
      ]
    },
    {
      "cell_type": "markdown",
      "metadata": {
        "id": "VUSOiKw0sPqF"
      },
      "source": [
        "Попробуем подобрать параметры, используя GridSearchCV."
      ]
    },
    {
      "cell_type": "code",
      "metadata": {
        "id": "MGVAsJpFCX8X"
      },
      "source": [
        "from sklearn.model_selection import GridSearchCV"
      ],
      "execution_count": null,
      "outputs": []
    },
    {
      "cell_type": "code",
      "metadata": {
        "colab": {
          "base_uri": "https://localhost:8080/"
        },
        "id": "LA1ZamSlshAq",
        "outputId": "7ad86201-c4cf-4fe6-dfb3-1f793cb98ee4"
      },
      "source": [
        "param_grid = {\n",
        "    'Logistic Regression': {\n",
        "        'penalty' : ['l1', 'l2'],\n",
        "        'solver' : ['liblinear', 'saga'],\n",
        "        'max_iter': [100, 300, 500, 700, 1000]\n",
        "    },\n",
        "    'Naive Bayes': {\n",
        "        'fit_prior': [False, True]\n",
        "    },\n",
        "    'Decision Tree': {\n",
        "        'criterion': ['gini', 'entropy'],\n",
        "        'max_depth': [None, 50, 100, 150],\n",
        "        'min_samples_split': np.linspace(2, 5, 4, dtype='int'),\n",
        "        'min_samples_leaf': np.linspace(1, 3, 3, dtype='int')\n",
        "    },\n",
        "    'Support Vector Machines': {\n",
        "        'loss': ['hinge', 'squared_hinge'],\n",
        "        'max_iter': [1000, 2000]\n",
        "    }\n",
        "}\n",
        "\n",
        "best_params = dict()\n",
        "\n",
        "for model_name in models.keys():\n",
        "  model = models[model_name]\n",
        "  model_grid = param_grid[model_name]\n",
        "  gs = GridSearchCV(model, model_grid, return_train_score=True, n_jobs=-1, verbose=True)\n",
        "  gs.fit(train_X, train_y)\n",
        "  best_params[model_name] = gs.best_params_\n"
      ],
      "execution_count": null,
      "outputs": [
        {
          "output_type": "stream",
          "text": [
            "Fitting 5 folds for each of 20 candidates, totalling 100 fits\n"
          ],
          "name": "stdout"
        },
        {
          "output_type": "stream",
          "text": [
            "[Parallel(n_jobs=-1)]: Using backend LokyBackend with 2 concurrent workers.\n",
            "[Parallel(n_jobs=-1)]: Done  46 tasks      | elapsed: 11.4min\n",
            "[Parallel(n_jobs=-1)]: Done 100 out of 100 | elapsed: 54.7min finished\n"
          ],
          "name": "stderr"
        },
        {
          "output_type": "stream",
          "text": [
            "Fitting 5 folds for each of 2 candidates, totalling 10 fits\n"
          ],
          "name": "stdout"
        },
        {
          "output_type": "stream",
          "text": [
            "[Parallel(n_jobs=-1)]: Using backend LokyBackend with 2 concurrent workers.\n",
            "[Parallel(n_jobs=-1)]: Done  10 out of  10 | elapsed:    1.4s finished\n"
          ],
          "name": "stderr"
        },
        {
          "output_type": "stream",
          "text": [
            "Fitting 5 folds for each of 96 candidates, totalling 480 fits\n"
          ],
          "name": "stdout"
        },
        {
          "output_type": "stream",
          "text": [
            "[Parallel(n_jobs=-1)]: Using backend LokyBackend with 2 concurrent workers.\n",
            "[Parallel(n_jobs=-1)]: Done  46 tasks      | elapsed:   44.7s\n",
            "[Parallel(n_jobs=-1)]: Done 196 tasks      | elapsed:  3.1min\n",
            "[Parallel(n_jobs=-1)]: Done 446 tasks      | elapsed:  5.8min\n",
            "[Parallel(n_jobs=-1)]: Done 480 out of 480 | elapsed:  6.1min finished\n"
          ],
          "name": "stderr"
        },
        {
          "output_type": "stream",
          "text": [
            "Fitting 5 folds for each of 4 candidates, totalling 20 fits\n"
          ],
          "name": "stdout"
        },
        {
          "output_type": "stream",
          "text": [
            "[Parallel(n_jobs=-1)]: Using backend LokyBackend with 2 concurrent workers.\n",
            "[Parallel(n_jobs=-1)]: Done  20 out of  20 | elapsed: 34.3min finished\n",
            "/usr/local/lib/python3.7/dist-packages/sklearn/svm/_base.py:947: ConvergenceWarning: Liblinear failed to converge, increase the number of iterations.\n",
            "  \"the number of iterations.\", ConvergenceWarning)\n"
          ],
          "name": "stderr"
        }
      ]
    },
    {
      "cell_type": "code",
      "metadata": {
        "colab": {
          "base_uri": "https://localhost:8080/"
        },
        "id": "eunSuAZZUVUF",
        "outputId": "b5547bf1-7654-4adf-a679-f6abe27bf0b1"
      },
      "source": [
        "best_params"
      ],
      "execution_count": null,
      "outputs": [
        {
          "output_type": "execute_result",
          "data": {
            "text/plain": [
              "{'Decision Tree': {'criterion': 'gini',\n",
              "  'max_depth': None,\n",
              "  'min_samples_leaf': 2,\n",
              "  'min_samples_split': 5},\n",
              " 'Logistic Regression': {'max_iter': 100,\n",
              "  'penalty': 'l1',\n",
              "  'solver': 'liblinear'},\n",
              " 'Naive Bayes': {'fit_prior': True},\n",
              " 'Support Vector Machines': {'loss': 'squared_hinge', 'max_iter': 2000}}"
            ]
          },
          "metadata": {
            "tags": []
          },
          "execution_count": 56
        }
      ]
    },
    {
      "cell_type": "code",
      "metadata": {
        "colab": {
          "base_uri": "https://localhost:8080/"
        },
        "id": "UbIQUCG0T1e1",
        "outputId": "cbe59873-8598-473d-9983-94b4a176befe"
      },
      "source": [
        "models_cv = {\n",
        "    'Logistic Regression': LogisticRegression(max_iter=100, penalty='l1', solver='liblinear'),\n",
        "    'Naive Bayes': MultinomialNB(fit_prior=True),\n",
        "    'Decision Tree': DecisionTreeClassifier(criterion='gini', max_depth=None, min_samples_leaf=2, min_samples_split=5),\n",
        "    'Support Vector Machines': LinearSVC(loss='squared_hinge', max_iter=2000)\n",
        "}\n",
        "\n",
        "for model_name in tqdm(models_cv.keys()):\n",
        "  model = models_cv[model_name]\n",
        "  model.fit(train_X, train_y)\n",
        "  predictions = model.predict(val_X)\n",
        "  model_precision = precision_score(val_y, predictions)\n",
        "  model_recall = recall_score(val_y, predictions)\n",
        "  model_f1_score = f1_score(val_y, predictions)\n",
        "  metrics[model_name + ' CV'] = [model_precision, model_recall, model_f1_score]"
      ],
      "execution_count": null,
      "outputs": [
        {
          "output_type": "stream",
          "text": [
            "\n",
            "  0%|          | 0/4 [00:00<?, ?it/s]\u001b[A\n",
            " 25%|██▌       | 1/4 [00:04<00:12,  4.33s/it]\u001b[A\n",
            " 50%|█████     | 2/4 [00:04<00:06,  3.11s/it]\u001b[A\n",
            " 75%|███████▌  | 3/4 [00:06<00:02,  2.66s/it]\u001b[A/usr/local/lib/python3.7/dist-packages/sklearn/svm/_base.py:947: ConvergenceWarning: Liblinear failed to converge, increase the number of iterations.\n",
            "  \"the number of iterations.\", ConvergenceWarning)\n",
            "\n",
            "100%|██████████| 4/4 [03:56<00:00, 59.04s/it]\n"
          ],
          "name": "stderr"
        }
      ]
    },
    {
      "cell_type": "code",
      "metadata": {
        "colab": {
          "base_uri": "https://localhost:8080/",
          "height": 314
        },
        "id": "ALiripCMU9mV",
        "outputId": "ade8d6ea-78fb-4039-b5a5-b7937a0556e0"
      },
      "source": [
        "metrics.T.sort_values('recall', ascending=False)"
      ],
      "execution_count": null,
      "outputs": [
        {
          "output_type": "execute_result",
          "data": {
            "text/html": [
              "<div>\n",
              "<style scoped>\n",
              "    .dataframe tbody tr th:only-of-type {\n",
              "        vertical-align: middle;\n",
              "    }\n",
              "\n",
              "    .dataframe tbody tr th {\n",
              "        vertical-align: top;\n",
              "    }\n",
              "\n",
              "    .dataframe thead th {\n",
              "        text-align: right;\n",
              "    }\n",
              "</style>\n",
              "<table border=\"1\" class=\"dataframe\">\n",
              "  <thead>\n",
              "    <tr style=\"text-align: right;\">\n",
              "      <th>metrics</th>\n",
              "      <th>precision</th>\n",
              "      <th>recall</th>\n",
              "      <th>f1_score</th>\n",
              "    </tr>\n",
              "  </thead>\n",
              "  <tbody>\n",
              "    <tr>\n",
              "      <th>Algorythm (sum &gt; 3)</th>\n",
              "      <td>0.623377</td>\n",
              "      <td>0.857143</td>\n",
              "      <td>0.721805</td>\n",
              "    </tr>\n",
              "    <tr>\n",
              "      <th>Decision Tree</th>\n",
              "      <td>0.762486</td>\n",
              "      <td>0.735940</td>\n",
              "      <td>0.748978</td>\n",
              "    </tr>\n",
              "    <tr>\n",
              "      <th>Decision Tree CV</th>\n",
              "      <td>0.803444</td>\n",
              "      <td>0.724692</td>\n",
              "      <td>0.762039</td>\n",
              "    </tr>\n",
              "    <tr>\n",
              "      <th>Naive Bayes</th>\n",
              "      <td>0.124723</td>\n",
              "      <td>0.723621</td>\n",
              "      <td>0.212773</td>\n",
              "    </tr>\n",
              "    <tr>\n",
              "      <th>Naive Bayes CV</th>\n",
              "      <td>0.124723</td>\n",
              "      <td>0.723621</td>\n",
              "      <td>0.212773</td>\n",
              "    </tr>\n",
              "    <tr>\n",
              "      <th>Support Vector Machines CV</th>\n",
              "      <td>0.791333</td>\n",
              "      <td>0.635779</td>\n",
              "      <td>0.705079</td>\n",
              "    </tr>\n",
              "    <tr>\n",
              "      <th>Logistic Regression CV</th>\n",
              "      <td>0.881131</td>\n",
              "      <td>0.567756</td>\n",
              "      <td>0.690554</td>\n",
              "    </tr>\n",
              "    <tr>\n",
              "      <th>Logistic Regression</th>\n",
              "      <td>0.801413</td>\n",
              "      <td>0.546867</td>\n",
              "      <td>0.650111</td>\n",
              "    </tr>\n",
              "    <tr>\n",
              "      <th>Support Vector Machines</th>\n",
              "      <td>0.933265</td>\n",
              "      <td>0.486877</td>\n",
              "      <td>0.639916</td>\n",
              "    </tr>\n",
              "  </tbody>\n",
              "</table>\n",
              "</div>"
            ],
            "text/plain": [
              "metrics                     precision    recall  f1_score\n",
              "Algorythm (sum > 3)          0.623377  0.857143  0.721805\n",
              "Decision Tree                0.762486  0.735940  0.748978\n",
              "Decision Tree CV             0.803444  0.724692  0.762039\n",
              "Naive Bayes                  0.124723  0.723621  0.212773\n",
              "Naive Bayes CV               0.124723  0.723621  0.212773\n",
              "Support Vector Machines CV   0.791333  0.635779  0.705079\n",
              "Logistic Regression CV       0.881131  0.567756  0.690554\n",
              "Logistic Regression          0.801413  0.546867  0.650111\n",
              "Support Vector Machines      0.933265  0.486877  0.639916"
            ]
          },
          "metadata": {
            "tags": []
          },
          "execution_count": 63
        }
      ]
    },
    {
      "cell_type": "markdown",
      "metadata": {
        "id": "7KbiMRIL91Wz"
      },
      "source": [
        "По сравнению с baseline у всех моделей слишком низкая полнота.\n",
        "\n",
        "Попробуем применить метод SMOTE для балансировки выборки."
      ]
    },
    {
      "cell_type": "code",
      "metadata": {
        "colab": {
          "base_uri": "https://localhost:8080/"
        },
        "id": "LK0T2mJGB0E0",
        "outputId": "f98d20b2-c3a0-4a69-cbf7-f08c0a54551c"
      },
      "source": [
        "train_X.shape, train_y.shape"
      ],
      "execution_count": null,
      "outputs": [
        {
          "output_type": "execute_result",
          "data": {
            "text/plain": [
              "((445982, 7), (445982,))"
            ]
          },
          "metadata": {
            "tags": []
          },
          "execution_count": 52
        }
      ]
    },
    {
      "cell_type": "code",
      "metadata": {
        "colab": {
          "base_uri": "https://localhost:8080/"
        },
        "id": "OTNBXFZI92oN",
        "outputId": "636d3afc-9361-4e79-c4fe-8375dbd21f83"
      },
      "source": [
        "from imblearn.over_sampling import SMOTE\n",
        "\n",
        "smote = SMOTE(ratio='minority')\n",
        "X_sm, y_sm = smote.fit_sample(train_X, train_y)\n",
        "\n",
        "X_sm.shape, y_sm.shape"
      ],
      "execution_count": null,
      "outputs": [
        {
          "output_type": "stream",
          "text": [
            "/usr/local/lib/python3.7/dist-packages/sklearn/externals/six.py:31: FutureWarning: The module is deprecated in version 0.21 and will be removed in version 0.23 since we've dropped support for Python 2.7. Please rely on the official version of six (https://pypi.org/project/six/).\n",
            "  \"(https://pypi.org/project/six/).\", FutureWarning)\n",
            "/usr/local/lib/python3.7/dist-packages/sklearn/utils/deprecation.py:144: FutureWarning: The sklearn.neighbors.base module is  deprecated in version 0.22 and will be removed in version 0.24. The corresponding classes / functions should instead be imported from sklearn.neighbors. Anything that cannot be imported from sklearn.neighbors is now part of the private API.\n",
            "  warnings.warn(message, FutureWarning)\n",
            "/usr/local/lib/python3.7/dist-packages/sklearn/utils/deprecation.py:87: FutureWarning: Function safe_indexing is deprecated; safe_indexing is deprecated in version 0.22 and will be removed in version 0.24.\n",
            "  warnings.warn(msg, category=FutureWarning)\n"
          ],
          "name": "stderr"
        },
        {
          "output_type": "execute_result",
          "data": {
            "text/plain": [
              "((881298, 7), (881298,))"
            ]
          },
          "metadata": {
            "tags": []
          },
          "execution_count": 53
        }
      ]
    },
    {
      "cell_type": "code",
      "metadata": {
        "colab": {
          "base_uri": "https://localhost:8080/"
        },
        "id": "HFh16O_GWnoN",
        "outputId": "e3e670ac-bbd6-4dc9-a7af-95b99e5d7e7b"
      },
      "source": [
        "for model_name in tqdm(models_cv.keys()):\n",
        "  model = models_cv[model_name]\n",
        "  model.fit(X_sm, y_sm)\n",
        "  predictions = model.predict(val_X)\n",
        "  model_precision = precision_score(val_y, predictions)\n",
        "  model_recall = recall_score(val_y, predictions)\n",
        "  model_f1_score = f1_score(val_y, predictions)\n",
        "  metrics[model_name + ' SMOTE'] = [model_precision, model_recall, model_f1_score]"
      ],
      "execution_count": null,
      "outputs": [
        {
          "output_type": "stream",
          "text": [
            "\n",
            "  0%|          | 0/4 [00:00<?, ?it/s]\u001b[A\n",
            " 25%|██▌       | 1/4 [00:07<00:21,  7.04s/it]\u001b[A\n",
            " 50%|█████     | 2/4 [00:07<00:10,  5.04s/it]\u001b[A\n",
            " 75%|███████▌  | 3/4 [00:17<00:06,  6.45s/it]\u001b[A/usr/local/lib/python3.7/dist-packages/sklearn/svm/_base.py:947: ConvergenceWarning: Liblinear failed to converge, increase the number of iterations.\n",
            "  \"the number of iterations.\", ConvergenceWarning)\n",
            "\n",
            "100%|██████████| 4/4 [08:55<00:00, 133.76s/it]\n"
          ],
          "name": "stderr"
        }
      ]
    },
    {
      "cell_type": "code",
      "metadata": {
        "colab": {
          "base_uri": "https://localhost:8080/",
          "height": 432
        },
        "id": "rPZzNszHW25e",
        "outputId": "8292a2dd-bcab-4690-bf17-a9b494db0f3e"
      },
      "source": [
        "metrics.T.sort_values('f1_score', ascending=False)"
      ],
      "execution_count": null,
      "outputs": [
        {
          "output_type": "execute_result",
          "data": {
            "text/html": [
              "<div>\n",
              "<style scoped>\n",
              "    .dataframe tbody tr th:only-of-type {\n",
              "        vertical-align: middle;\n",
              "    }\n",
              "\n",
              "    .dataframe tbody tr th {\n",
              "        vertical-align: top;\n",
              "    }\n",
              "\n",
              "    .dataframe thead th {\n",
              "        text-align: right;\n",
              "    }\n",
              "</style>\n",
              "<table border=\"1\" class=\"dataframe\">\n",
              "  <thead>\n",
              "    <tr style=\"text-align: right;\">\n",
              "      <th>metrics</th>\n",
              "      <th>precision</th>\n",
              "      <th>recall</th>\n",
              "      <th>f1_score</th>\n",
              "    </tr>\n",
              "  </thead>\n",
              "  <tbody>\n",
              "    <tr>\n",
              "      <th>Decision Tree SMOTE</th>\n",
              "      <td>0.787948</td>\n",
              "      <td>0.742367</td>\n",
              "      <td>0.764479</td>\n",
              "    </tr>\n",
              "    <tr>\n",
              "      <th>Decision Tree CV</th>\n",
              "      <td>0.803444</td>\n",
              "      <td>0.724692</td>\n",
              "      <td>0.762039</td>\n",
              "    </tr>\n",
              "    <tr>\n",
              "      <th>Decision Tree</th>\n",
              "      <td>0.762486</td>\n",
              "      <td>0.735940</td>\n",
              "      <td>0.748978</td>\n",
              "    </tr>\n",
              "    <tr>\n",
              "      <th>Algorythm (sum &gt; 3)</th>\n",
              "      <td>0.623377</td>\n",
              "      <td>0.857143</td>\n",
              "      <td>0.721805</td>\n",
              "    </tr>\n",
              "    <tr>\n",
              "      <th>Support Vector Machines CV</th>\n",
              "      <td>0.791333</td>\n",
              "      <td>0.635779</td>\n",
              "      <td>0.705079</td>\n",
              "    </tr>\n",
              "    <tr>\n",
              "      <th>Logistic Regression CV</th>\n",
              "      <td>0.881131</td>\n",
              "      <td>0.567756</td>\n",
              "      <td>0.690554</td>\n",
              "    </tr>\n",
              "    <tr>\n",
              "      <th>Logistic Regression</th>\n",
              "      <td>0.801413</td>\n",
              "      <td>0.546867</td>\n",
              "      <td>0.650111</td>\n",
              "    </tr>\n",
              "    <tr>\n",
              "      <th>Support Vector Machines</th>\n",
              "      <td>0.933265</td>\n",
              "      <td>0.486877</td>\n",
              "      <td>0.639916</td>\n",
              "    </tr>\n",
              "    <tr>\n",
              "      <th>Logistic Regression SMOTE</th>\n",
              "      <td>0.172286</td>\n",
              "      <td>0.870380</td>\n",
              "      <td>0.287636</td>\n",
              "    </tr>\n",
              "    <tr>\n",
              "      <th>Naive Bayes</th>\n",
              "      <td>0.124723</td>\n",
              "      <td>0.723621</td>\n",
              "      <td>0.212773</td>\n",
              "    </tr>\n",
              "    <tr>\n",
              "      <th>Naive Bayes CV</th>\n",
              "      <td>0.124723</td>\n",
              "      <td>0.723621</td>\n",
              "      <td>0.212773</td>\n",
              "    </tr>\n",
              "    <tr>\n",
              "      <th>Naive Bayes SMOTE</th>\n",
              "      <td>0.118579</td>\n",
              "      <td>0.729513</td>\n",
              "      <td>0.203999</td>\n",
              "    </tr>\n",
              "    <tr>\n",
              "      <th>Support Vector Machines SMOTE</th>\n",
              "      <td>0.035053</td>\n",
              "      <td>0.933048</td>\n",
              "      <td>0.067568</td>\n",
              "    </tr>\n",
              "  </tbody>\n",
              "</table>\n",
              "</div>"
            ],
            "text/plain": [
              "metrics                        precision    recall  f1_score\n",
              "Decision Tree SMOTE             0.787948  0.742367  0.764479\n",
              "Decision Tree CV                0.803444  0.724692  0.762039\n",
              "Decision Tree                   0.762486  0.735940  0.748978\n",
              "Algorythm (sum > 3)             0.623377  0.857143  0.721805\n",
              "Support Vector Machines CV      0.791333  0.635779  0.705079\n",
              "Logistic Regression CV          0.881131  0.567756  0.690554\n",
              "Logistic Regression             0.801413  0.546867  0.650111\n",
              "Support Vector Machines         0.933265  0.486877  0.639916\n",
              "Logistic Regression SMOTE       0.172286  0.870380  0.287636\n",
              "Naive Bayes                     0.124723  0.723621  0.212773\n",
              "Naive Bayes CV                  0.124723  0.723621  0.212773\n",
              "Naive Bayes SMOTE               0.118579  0.729513  0.203999\n",
              "Support Vector Machines SMOTE   0.035053  0.933048  0.067568"
            ]
          },
          "metadata": {
            "tags": []
          },
          "execution_count": 65
        }
      ]
    },
    {
      "cell_type": "markdown",
      "metadata": {
        "id": "eZcY4OcXOJfE"
      },
      "source": [
        "По этим метрикам лидирует модель DecisionTree. \n",
        "\n",
        "Попробуем использовать модель RandomForest для улучшения результатов."
      ]
    },
    {
      "cell_type": "code",
      "metadata": {
        "id": "TG7akV99bnq_"
      },
      "source": [
        "from sklearn.ensemble import RandomForestClassifier\n",
        "model_rfc = RandomForestClassifier(criterion='entropy', n_estimators=150, min_samples_split=3, n_jobs=-1)\n",
        "model_rfc.fit(X_sm, y_sm)\n",
        "predictions_rfc = model_rfc.predict(val_X)\n",
        "model_rfc_precision = precision_score(val_y, predictions_rfc)\n",
        "model_rfc_recall = recall_score(val_y, predictions_rfc)\n",
        "model_rfc_f1_score = f1_score(val_y, predictions_rfc)\n",
        "metrics['RandomForest SMOTE'] = [model_rfc_precision, model_rfc_recall, model_rfc_f1_score]"
      ],
      "execution_count": null,
      "outputs": []
    },
    {
      "cell_type": "code",
      "metadata": {
        "colab": {
          "base_uri": "https://localhost:8080/",
          "height": 462
        },
        "id": "7vl_S0cHd9bW",
        "outputId": "38435a14-4b80-48eb-e17d-a601a10b93cb"
      },
      "source": [
        "metrics.T.sort_values('f1_score',ascending=False)"
      ],
      "execution_count": null,
      "outputs": [
        {
          "output_type": "execute_result",
          "data": {
            "text/html": [
              "<div>\n",
              "<style scoped>\n",
              "    .dataframe tbody tr th:only-of-type {\n",
              "        vertical-align: middle;\n",
              "    }\n",
              "\n",
              "    .dataframe tbody tr th {\n",
              "        vertical-align: top;\n",
              "    }\n",
              "\n",
              "    .dataframe thead th {\n",
              "        text-align: right;\n",
              "    }\n",
              "</style>\n",
              "<table border=\"1\" class=\"dataframe\">\n",
              "  <thead>\n",
              "    <tr style=\"text-align: right;\">\n",
              "      <th>metrics</th>\n",
              "      <th>precision</th>\n",
              "      <th>recall</th>\n",
              "      <th>f1_score</th>\n",
              "    </tr>\n",
              "  </thead>\n",
              "  <tbody>\n",
              "    <tr>\n",
              "      <th>RandomForest SMOTE</th>\n",
              "      <td>0.825549</td>\n",
              "      <td>0.785753</td>\n",
              "      <td>0.805159</td>\n",
              "    </tr>\n",
              "    <tr>\n",
              "      <th>Decision Tree SMOTE</th>\n",
              "      <td>0.787948</td>\n",
              "      <td>0.742367</td>\n",
              "      <td>0.764479</td>\n",
              "    </tr>\n",
              "    <tr>\n",
              "      <th>Decision Tree CV</th>\n",
              "      <td>0.803444</td>\n",
              "      <td>0.724692</td>\n",
              "      <td>0.762039</td>\n",
              "    </tr>\n",
              "    <tr>\n",
              "      <th>Decision Tree</th>\n",
              "      <td>0.762486</td>\n",
              "      <td>0.735940</td>\n",
              "      <td>0.748978</td>\n",
              "    </tr>\n",
              "    <tr>\n",
              "      <th>Algorythm (sum &gt; 3)</th>\n",
              "      <td>0.623377</td>\n",
              "      <td>0.857143</td>\n",
              "      <td>0.721805</td>\n",
              "    </tr>\n",
              "    <tr>\n",
              "      <th>Support Vector Machines CV</th>\n",
              "      <td>0.791333</td>\n",
              "      <td>0.635779</td>\n",
              "      <td>0.705079</td>\n",
              "    </tr>\n",
              "    <tr>\n",
              "      <th>Logistic Regression CV</th>\n",
              "      <td>0.881131</td>\n",
              "      <td>0.567756</td>\n",
              "      <td>0.690554</td>\n",
              "    </tr>\n",
              "    <tr>\n",
              "      <th>Logistic Regression</th>\n",
              "      <td>0.801413</td>\n",
              "      <td>0.546867</td>\n",
              "      <td>0.650111</td>\n",
              "    </tr>\n",
              "    <tr>\n",
              "      <th>Support Vector Machines</th>\n",
              "      <td>0.933265</td>\n",
              "      <td>0.486877</td>\n",
              "      <td>0.639916</td>\n",
              "    </tr>\n",
              "    <tr>\n",
              "      <th>Logistic Regression SMOTE</th>\n",
              "      <td>0.172286</td>\n",
              "      <td>0.870380</td>\n",
              "      <td>0.287636</td>\n",
              "    </tr>\n",
              "    <tr>\n",
              "      <th>Naive Bayes</th>\n",
              "      <td>0.124723</td>\n",
              "      <td>0.723621</td>\n",
              "      <td>0.212773</td>\n",
              "    </tr>\n",
              "    <tr>\n",
              "      <th>Naive Bayes CV</th>\n",
              "      <td>0.124723</td>\n",
              "      <td>0.723621</td>\n",
              "      <td>0.212773</td>\n",
              "    </tr>\n",
              "    <tr>\n",
              "      <th>Naive Bayes SMOTE</th>\n",
              "      <td>0.118579</td>\n",
              "      <td>0.729513</td>\n",
              "      <td>0.203999</td>\n",
              "    </tr>\n",
              "    <tr>\n",
              "      <th>Support Vector Machines SMOTE</th>\n",
              "      <td>0.035053</td>\n",
              "      <td>0.933048</td>\n",
              "      <td>0.067568</td>\n",
              "    </tr>\n",
              "  </tbody>\n",
              "</table>\n",
              "</div>"
            ],
            "text/plain": [
              "metrics                        precision    recall  f1_score\n",
              "RandomForest SMOTE              0.825549  0.785753  0.805159\n",
              "Decision Tree SMOTE             0.787948  0.742367  0.764479\n",
              "Decision Tree CV                0.803444  0.724692  0.762039\n",
              "Decision Tree                   0.762486  0.735940  0.748978\n",
              "Algorythm (sum > 3)             0.623377  0.857143  0.721805\n",
              "Support Vector Machines CV      0.791333  0.635779  0.705079\n",
              "Logistic Regression CV          0.881131  0.567756  0.690554\n",
              "Logistic Regression             0.801413  0.546867  0.650111\n",
              "Support Vector Machines         0.933265  0.486877  0.639916\n",
              "Logistic Regression SMOTE       0.172286  0.870380  0.287636\n",
              "Naive Bayes                     0.124723  0.723621  0.212773\n",
              "Naive Bayes CV                  0.124723  0.723621  0.212773\n",
              "Naive Bayes SMOTE               0.118579  0.729513  0.203999\n",
              "Support Vector Machines SMOTE   0.035053  0.933048  0.067568"
            ]
          },
          "metadata": {
            "tags": []
          },
          "execution_count": 67
        }
      ]
    },
    {
      "cell_type": "markdown",
      "metadata": {
        "id": "XDsJFixCgYpo"
      },
      "source": [
        "По этим метрикам самой приемлемой моделью является RandomForest, обученный на сбалансированной выборке. У других моделей, у которых полнота выше, сильно страдает точность."
      ]
    },
    {
      "cell_type": "markdown",
      "metadata": {
        "id": "k0krjKIEN2FM"
      },
      "source": [
        "Подготовим данные к загрузке в базу: добавим к тестовой выборке предсказания модели RandomForest."
      ]
    },
    {
      "cell_type": "markdown",
      "metadata": {
        "id": "CSN4BbtOE-IM"
      },
      "source": [
        "Напишем функцию для обратного преобразования закодированных данных."
      ]
    },
    {
      "cell_type": "code",
      "metadata": {
        "id": "cVMQZPGpFCQr"
      },
      "source": [
        "def number_decode_features(init_df):\n",
        "    result = init_df.copy()\n",
        "    for column in result.columns:\n",
        "        if column in encoders:\n",
        "            result[column] = encoders[column].inverse_transform(result[column])\n",
        "    return result"
      ],
      "execution_count": null,
      "outputs": []
    },
    {
      "cell_type": "code",
      "metadata": {
        "id": "DEyK4CHugmvy",
        "colab": {
          "base_uri": "https://localhost:8080/",
          "height": 195
        },
        "outputId": "28b8a8fc-49dd-484e-ab49-b0221d7a9b51"
      },
      "source": [
        "db_data = number_decode_features(val_X)\n",
        "db_data['fraud_prediction'] = predictions_rfc\n",
        "db_data.head()"
      ],
      "execution_count": null,
      "outputs": [
        {
          "output_type": "execute_result",
          "data": {
            "text/html": [
              "<div>\n",
              "<style scoped>\n",
              "    .dataframe tbody tr th:only-of-type {\n",
              "        vertical-align: middle;\n",
              "    }\n",
              "\n",
              "    .dataframe tbody tr th {\n",
              "        vertical-align: top;\n",
              "    }\n",
              "\n",
              "    .dataframe thead th {\n",
              "        text-align: right;\n",
              "    }\n",
              "</style>\n",
              "<table border=\"1\" class=\"dataframe\">\n",
              "  <thead>\n",
              "    <tr style=\"text-align: right;\">\n",
              "      <th></th>\n",
              "      <th>step</th>\n",
              "      <th>customer</th>\n",
              "      <th>age</th>\n",
              "      <th>gender</th>\n",
              "      <th>merchant</th>\n",
              "      <th>category</th>\n",
              "      <th>amount</th>\n",
              "      <th>fraud_prediction</th>\n",
              "    </tr>\n",
              "  </thead>\n",
              "  <tbody>\n",
              "    <tr>\n",
              "      <th>592449</th>\n",
              "      <td>179</td>\n",
              "      <td>C1648096390</td>\n",
              "      <td>5</td>\n",
              "      <td>M</td>\n",
              "      <td>M348934600</td>\n",
              "      <td>es_transportation</td>\n",
              "      <td>20.32</td>\n",
              "      <td>0</td>\n",
              "    </tr>\n",
              "    <tr>\n",
              "      <th>85693</th>\n",
              "      <td>31</td>\n",
              "      <td>C747175090</td>\n",
              "      <td>5</td>\n",
              "      <td>F</td>\n",
              "      <td>M348934600</td>\n",
              "      <td>es_transportation</td>\n",
              "      <td>4.45</td>\n",
              "      <td>0</td>\n",
              "    </tr>\n",
              "    <tr>\n",
              "      <th>490707</th>\n",
              "      <td>151</td>\n",
              "      <td>C1386324281</td>\n",
              "      <td>2</td>\n",
              "      <td>M</td>\n",
              "      <td>M85975013</td>\n",
              "      <td>es_food</td>\n",
              "      <td>5.56</td>\n",
              "      <td>0</td>\n",
              "    </tr>\n",
              "    <tr>\n",
              "      <th>126896</th>\n",
              "      <td>45</td>\n",
              "      <td>C626467543</td>\n",
              "      <td>4</td>\n",
              "      <td>F</td>\n",
              "      <td>M1823072687</td>\n",
              "      <td>es_transportation</td>\n",
              "      <td>13.38</td>\n",
              "      <td>0</td>\n",
              "    </tr>\n",
              "    <tr>\n",
              "      <th>205446</th>\n",
              "      <td>70</td>\n",
              "      <td>C1986701933</td>\n",
              "      <td>3</td>\n",
              "      <td>F</td>\n",
              "      <td>M855959430</td>\n",
              "      <td>es_hyper</td>\n",
              "      <td>15.98</td>\n",
              "      <td>0</td>\n",
              "    </tr>\n",
              "  </tbody>\n",
              "</table>\n",
              "</div>"
            ],
            "text/plain": [
              "        step     customer  age  ...           category amount fraud_prediction\n",
              "592449   179  C1648096390    5  ...  es_transportation  20.32                0\n",
              "85693     31   C747175090    5  ...  es_transportation   4.45                0\n",
              "490707   151  C1386324281    2  ...            es_food   5.56                0\n",
              "126896    45   C626467543    4  ...  es_transportation  13.38                0\n",
              "205446    70  C1986701933    3  ...           es_hyper  15.98                0\n",
              "\n",
              "[5 rows x 8 columns]"
            ]
          },
          "metadata": {
            "tags": []
          },
          "execution_count": 69
        }
      ]
    },
    {
      "cell_type": "code",
      "metadata": {
        "id": "tRxuVPUJFwlM"
      },
      "source": [
        "db_data['age'] = db_data.astype(np.object)\n",
        "db_data['age'].replace(7, 'U', inplace=True)"
      ],
      "execution_count": null,
      "outputs": []
    },
    {
      "cell_type": "code",
      "metadata": {
        "colab": {
          "base_uri": "https://localhost:8080/",
          "height": 402
        },
        "id": "Mos2ZlXnszlL",
        "outputId": "5262027f-0128-4278-a296-92562097fbc0"
      },
      "source": [
        "db_data = db_data.sort_index()\n",
        "db_data"
      ],
      "execution_count": null,
      "outputs": [
        {
          "output_type": "execute_result",
          "data": {
            "text/html": [
              "<div>\n",
              "<style scoped>\n",
              "    .dataframe tbody tr th:only-of-type {\n",
              "        vertical-align: middle;\n",
              "    }\n",
              "\n",
              "    .dataframe tbody tr th {\n",
              "        vertical-align: top;\n",
              "    }\n",
              "\n",
              "    .dataframe thead th {\n",
              "        text-align: right;\n",
              "    }\n",
              "</style>\n",
              "<table border=\"1\" class=\"dataframe\">\n",
              "  <thead>\n",
              "    <tr style=\"text-align: right;\">\n",
              "      <th></th>\n",
              "      <th>step</th>\n",
              "      <th>customer</th>\n",
              "      <th>age</th>\n",
              "      <th>gender</th>\n",
              "      <th>merchant</th>\n",
              "      <th>category</th>\n",
              "      <th>amount</th>\n",
              "      <th>fraud_prediction</th>\n",
              "    </tr>\n",
              "  </thead>\n",
              "  <tbody>\n",
              "    <tr>\n",
              "      <th>1</th>\n",
              "      <td>0</td>\n",
              "      <td>C352968107</td>\n",
              "      <td>0</td>\n",
              "      <td>M</td>\n",
              "      <td>M348934600</td>\n",
              "      <td>es_transportation</td>\n",
              "      <td>39.68</td>\n",
              "      <td>0</td>\n",
              "    </tr>\n",
              "    <tr>\n",
              "      <th>4</th>\n",
              "      <td>0</td>\n",
              "      <td>C757503768</td>\n",
              "      <td>0</td>\n",
              "      <td>M</td>\n",
              "      <td>M348934600</td>\n",
              "      <td>es_transportation</td>\n",
              "      <td>35.72</td>\n",
              "      <td>0</td>\n",
              "    </tr>\n",
              "    <tr>\n",
              "      <th>8</th>\n",
              "      <td>0</td>\n",
              "      <td>C105845174</td>\n",
              "      <td>0</td>\n",
              "      <td>M</td>\n",
              "      <td>M348934600</td>\n",
              "      <td>es_transportation</td>\n",
              "      <td>32.40</td>\n",
              "      <td>0</td>\n",
              "    </tr>\n",
              "    <tr>\n",
              "      <th>12</th>\n",
              "      <td>0</td>\n",
              "      <td>C623601481</td>\n",
              "      <td>0</td>\n",
              "      <td>M</td>\n",
              "      <td>M50039827</td>\n",
              "      <td>es_health</td>\n",
              "      <td>68.79</td>\n",
              "      <td>0</td>\n",
              "    </tr>\n",
              "    <tr>\n",
              "      <th>13</th>\n",
              "      <td>0</td>\n",
              "      <td>C1865204568</td>\n",
              "      <td>0</td>\n",
              "      <td>M</td>\n",
              "      <td>M1823072687</td>\n",
              "      <td>es_transportation</td>\n",
              "      <td>20.32</td>\n",
              "      <td>0</td>\n",
              "    </tr>\n",
              "    <tr>\n",
              "      <th>...</th>\n",
              "      <td>...</td>\n",
              "      <td>...</td>\n",
              "      <td>...</td>\n",
              "      <td>...</td>\n",
              "      <td>...</td>\n",
              "      <td>...</td>\n",
              "      <td>...</td>\n",
              "      <td>...</td>\n",
              "    </tr>\n",
              "    <tr>\n",
              "      <th>594618</th>\n",
              "      <td>179</td>\n",
              "      <td>C1088853847</td>\n",
              "      <td>179</td>\n",
              "      <td>F</td>\n",
              "      <td>M151143676</td>\n",
              "      <td>es_barsandrestaurants</td>\n",
              "      <td>4.11</td>\n",
              "      <td>0</td>\n",
              "    </tr>\n",
              "    <tr>\n",
              "      <th>594627</th>\n",
              "      <td>179</td>\n",
              "      <td>C1007572087</td>\n",
              "      <td>179</td>\n",
              "      <td>F</td>\n",
              "      <td>M1823072687</td>\n",
              "      <td>es_transportation</td>\n",
              "      <td>35.30</td>\n",
              "      <td>0</td>\n",
              "    </tr>\n",
              "    <tr>\n",
              "      <th>594629</th>\n",
              "      <td>179</td>\n",
              "      <td>C1990073844</td>\n",
              "      <td>179</td>\n",
              "      <td>M</td>\n",
              "      <td>M1823072687</td>\n",
              "      <td>es_transportation</td>\n",
              "      <td>29.37</td>\n",
              "      <td>0</td>\n",
              "    </tr>\n",
              "    <tr>\n",
              "      <th>594637</th>\n",
              "      <td>179</td>\n",
              "      <td>C748358246</td>\n",
              "      <td>179</td>\n",
              "      <td>M</td>\n",
              "      <td>M1823072687</td>\n",
              "      <td>es_transportation</td>\n",
              "      <td>51.17</td>\n",
              "      <td>0</td>\n",
              "    </tr>\n",
              "    <tr>\n",
              "      <th>594640</th>\n",
              "      <td>179</td>\n",
              "      <td>C123623130</td>\n",
              "      <td>179</td>\n",
              "      <td>F</td>\n",
              "      <td>M349281107</td>\n",
              "      <td>es_fashion</td>\n",
              "      <td>22.44</td>\n",
              "      <td>0</td>\n",
              "    </tr>\n",
              "  </tbody>\n",
              "</table>\n",
              "<p>148661 rows × 8 columns</p>\n",
              "</div>"
            ],
            "text/plain": [
              "        step     customer  age  ...               category amount fraud_prediction\n",
              "1          0   C352968107    0  ...      es_transportation  39.68                0\n",
              "4          0   C757503768    0  ...      es_transportation  35.72                0\n",
              "8          0   C105845174    0  ...      es_transportation  32.40                0\n",
              "12         0   C623601481    0  ...              es_health  68.79                0\n",
              "13         0  C1865204568    0  ...      es_transportation  20.32                0\n",
              "...      ...          ...  ...  ...                    ...    ...              ...\n",
              "594618   179  C1088853847  179  ...  es_barsandrestaurants   4.11                0\n",
              "594627   179  C1007572087  179  ...      es_transportation  35.30                0\n",
              "594629   179  C1990073844  179  ...      es_transportation  29.37                0\n",
              "594637   179   C748358246  179  ...      es_transportation  51.17                0\n",
              "594640   179   C123623130  179  ...             es_fashion  22.44                0\n",
              "\n",
              "[148661 rows x 8 columns]"
            ]
          },
          "metadata": {
            "tags": []
          },
          "execution_count": 71
        }
      ]
    },
    {
      "cell_type": "markdown",
      "metadata": {
        "id": "dm5MrwpNNoTa"
      },
      "source": [
        "Подключимся к базе данных и загрузим в неё тестовую выборку."
      ]
    },
    {
      "cell_type": "code",
      "metadata": {
        "id": "o6xGqAcssGDV",
        "colab": {
          "base_uri": "https://localhost:8080/"
        },
        "outputId": "44bc9e4a-83e0-44b5-d612-3b9a47e68275"
      },
      "source": [
        "import psycopg2\n",
        "\n",
        "DB_HOST = '89.223.95.138'\n",
        "DB_USER = 'student_16'\n",
        "DB_USER_PASSWORD = 'student_16'\n",
        "DB_NAME = 'student_16'\n",
        "\n",
        "conn = psycopg2.connect(host=DB_HOST, user=DB_USER, password=DB_USER_PASSWORD, dbname=DB_NAME)\n",
        "cursor = conn.cursor()"
      ],
      "execution_count": null,
      "outputs": [
        {
          "output_type": "stream",
          "text": [
            "/usr/local/lib/python3.7/dist-packages/psycopg2/__init__.py:144: UserWarning: The psycopg2 wheel package will be renamed from release 2.8; in order to keep installing from binary please use \"pip install psycopg2-binary\" instead. For details see: <http://initd.org/psycopg/docs/install.html#binary-install-from-pypi>.\n",
            "  \"\"\")\n"
          ],
          "name": "stderr"
        }
      ]
    },
    {
      "cell_type": "code",
      "metadata": {
        "colab": {
          "base_uri": "https://localhost:8080/",
          "height": 106
        },
        "id": "vnRoNyCmtEUJ",
        "outputId": "c13d338a-8f44-454e-d14d-169a9171089a"
      },
      "source": [
        "pd.read_sql_query(\"\"\"\n",
        "SELECT *\n",
        "FROM pg_catalog.pg_tables\n",
        "WHERE schemaname != 'pg_catalog' AND \n",
        "    schemaname != 'information_schema'\n",
        "    \"\"\", conn)"
      ],
      "execution_count": null,
      "outputs": [
        {
          "output_type": "execute_result",
          "data": {
            "text/html": [
              "<div>\n",
              "<style scoped>\n",
              "    .dataframe tbody tr th:only-of-type {\n",
              "        vertical-align: middle;\n",
              "    }\n",
              "\n",
              "    .dataframe tbody tr th {\n",
              "        vertical-align: top;\n",
              "    }\n",
              "\n",
              "    .dataframe thead th {\n",
              "        text-align: right;\n",
              "    }\n",
              "</style>\n",
              "<table border=\"1\" class=\"dataframe\">\n",
              "  <thead>\n",
              "    <tr style=\"text-align: right;\">\n",
              "      <th></th>\n",
              "      <th>schemaname</th>\n",
              "      <th>tablename</th>\n",
              "      <th>tableowner</th>\n",
              "      <th>tablespace</th>\n",
              "      <th>hasindexes</th>\n",
              "      <th>hasrules</th>\n",
              "      <th>hastriggers</th>\n",
              "      <th>rowsecurity</th>\n",
              "    </tr>\n",
              "  </thead>\n",
              "  <tbody>\n",
              "    <tr>\n",
              "      <th>0</th>\n",
              "      <td>public</td>\n",
              "      <td>adv_glossary</td>\n",
              "      <td>student_16</td>\n",
              "      <td>None</td>\n",
              "      <td>True</td>\n",
              "      <td>False</td>\n",
              "      <td>True</td>\n",
              "      <td>False</td>\n",
              "    </tr>\n",
              "    <tr>\n",
              "      <th>1</th>\n",
              "      <td>public</td>\n",
              "      <td>adv_events</td>\n",
              "      <td>student_16</td>\n",
              "      <td>None</td>\n",
              "      <td>True</td>\n",
              "      <td>False</td>\n",
              "      <td>True</td>\n",
              "      <td>False</td>\n",
              "    </tr>\n",
              "  </tbody>\n",
              "</table>\n",
              "</div>"
            ],
            "text/plain": [
              "  schemaname     tablename  tableowner  ... hasrules  hastriggers  rowsecurity\n",
              "0     public  adv_glossary  student_16  ...    False         True        False\n",
              "1     public    adv_events  student_16  ...    False         True        False\n",
              "\n",
              "[2 rows x 8 columns]"
            ]
          },
          "metadata": {
            "tags": []
          },
          "execution_count": 78
        }
      ]
    },
    {
      "cell_type": "markdown",
      "metadata": {
        "id": "YsNGldG2NWgc"
      },
      "source": [
        "Создадим в базе данных таблицу fraud_detection."
      ]
    },
    {
      "cell_type": "code",
      "metadata": {
        "id": "YF_gsgR_tJSb"
      },
      "source": [
        "query = \"\"\"\n",
        "  CREATE TABLE IF NOT EXISTS fraud_detection (\n",
        "    id SERIAL PRIMARY KEY,\n",
        "    step INT,\n",
        "    customer VARCHAR,\n",
        "    age\tVARCHAR,\n",
        "    gender\tVARCHAR,\n",
        "    merchant\tVARCHAR,\n",
        "    category\tVARCHAR,\n",
        "    amount\tFLOAT,\n",
        "    fraud_prediction INT\n",
        "  )\n",
        "\"\"\"\n",
        "cursor.execute(query)\n",
        "conn.commit()"
      ],
      "execution_count": null,
      "outputs": []
    },
    {
      "cell_type": "markdown",
      "metadata": {
        "id": "W-yO07aDNKsY"
      },
      "source": [
        "Загрузим данные из тестовой выборки в базу данных."
      ]
    },
    {
      "cell_type": "code",
      "metadata": {
        "id": "hFlRvb1RvWmI",
        "colab": {
          "base_uri": "https://localhost:8080/"
        },
        "outputId": "0ae70724-18da-4742-8446-ecf71e863941"
      },
      "source": [
        "for i in tqdm(range(10000, 150000, 10000)):\n",
        "  for idx, row in db_data.iloc[i - 10000:i].iterrows():\n",
        "    cursor.execute(\"\"\"\n",
        "    INSERT INTO fraud_detection\n",
        "    (step, customer, age, gender, merchant, category, amount, fraud_prediction)\n",
        "    VALUES {}\n",
        "    \"\"\".format(tuple(row)))\n",
        "\n",
        "  conn.commit()"
      ],
      "execution_count": null,
      "outputs": [
        {
          "output_type": "stream",
          "text": [
            "\n",
            "  0%|          | 0/14 [00:00<?, ?it/s]\u001b[A\n",
            "  7%|▋         | 1/14 [22:07<4:47:34, 1327.27s/it]\u001b[A\n",
            " 14%|█▍        | 2/14 [44:13<4:25:23, 1326.95s/it]\u001b[A\n",
            " 21%|██▏       | 3/14 [1:06:21<4:03:20, 1327.28s/it]\u001b[A\n",
            " 29%|██▊       | 4/14 [1:28:29<3:41:15, 1327.57s/it]\u001b[A\n",
            " 36%|███▌      | 5/14 [1:50:36<3:19:06, 1327.34s/it]\u001b[A\n",
            " 43%|████▎     | 6/14 [2:12:42<2:56:55, 1327.00s/it]\u001b[A\n",
            " 50%|█████     | 7/14 [2:34:50<2:34:51, 1327.30s/it]\u001b[A\n",
            " 57%|█████▋    | 8/14 [2:56:57<2:12:42, 1327.02s/it]\u001b[A\n",
            " 64%|██████▍   | 9/14 [3:19:03<1:50:34, 1326.88s/it]\u001b[A\n",
            " 71%|███████▏  | 10/14 [3:41:12<1:28:29, 1327.37s/it]\u001b[A\n",
            " 79%|███████▊  | 11/14 [4:03:19<1:06:22, 1327.37s/it]\u001b[A\n",
            " 86%|████████▌ | 12/14 [4:25:27<44:15, 1327.67s/it]  \u001b[A\n",
            " 93%|█████████▎| 13/14 [4:47:34<22:07, 1327.30s/it]\u001b[A\n",
            "100%|██████████| 14/14 [5:09:42<00:00, 1327.30s/it]\n"
          ],
          "name": "stderr"
        }
      ]
    },
    {
      "cell_type": "code",
      "metadata": {
        "id": "ePtdVJbiB_UB"
      },
      "source": [
        "for idx, row in db_data.iloc[140000:].iterrows():\n",
        "  cursor.execute(\"\"\"\n",
        "  INSERT INTO fraud_detection\n",
        "  (step, customer, age, gender, merchant, category, amount, fraud_prediction)\n",
        "  VALUES {}\n",
        "  \"\"\".format(tuple(row)))\n",
        "\n",
        "conn.commit()"
      ],
      "execution_count": null,
      "outputs": []
    },
    {
      "cell_type": "markdown",
      "metadata": {
        "id": "WwGB5e4ZM7YY"
      },
      "source": [
        "Проверим, что в данные в базу данных загрузились правильно и количество записей соответствует."
      ]
    },
    {
      "cell_type": "code",
      "metadata": {
        "colab": {
          "base_uri": "https://localhost:8080/",
          "height": 195
        },
        "id": "n_AmsDR7NEUd",
        "outputId": "610e6b99-19d4-4c9b-d37b-53697bbd2416"
      },
      "source": [
        "pd.read_sql_query(\"\"\"\n",
        "SELECT * FROM fraud_detection LIMIT 5\n",
        "    \"\"\", conn)"
      ],
      "execution_count": null,
      "outputs": [
        {
          "output_type": "execute_result",
          "data": {
            "text/html": [
              "<div>\n",
              "<style scoped>\n",
              "    .dataframe tbody tr th:only-of-type {\n",
              "        vertical-align: middle;\n",
              "    }\n",
              "\n",
              "    .dataframe tbody tr th {\n",
              "        vertical-align: top;\n",
              "    }\n",
              "\n",
              "    .dataframe thead th {\n",
              "        text-align: right;\n",
              "    }\n",
              "</style>\n",
              "<table border=\"1\" class=\"dataframe\">\n",
              "  <thead>\n",
              "    <tr style=\"text-align: right;\">\n",
              "      <th></th>\n",
              "      <th>id</th>\n",
              "      <th>step</th>\n",
              "      <th>customer</th>\n",
              "      <th>age</th>\n",
              "      <th>gender</th>\n",
              "      <th>merchant</th>\n",
              "      <th>category</th>\n",
              "      <th>amount</th>\n",
              "      <th>fraud_prediction</th>\n",
              "    </tr>\n",
              "  </thead>\n",
              "  <tbody>\n",
              "    <tr>\n",
              "      <th>0</th>\n",
              "      <td>1</td>\n",
              "      <td>0</td>\n",
              "      <td>C352968107</td>\n",
              "      <td>0</td>\n",
              "      <td>M</td>\n",
              "      <td>M348934600</td>\n",
              "      <td>es_transportation</td>\n",
              "      <td>39.68</td>\n",
              "      <td>0</td>\n",
              "    </tr>\n",
              "    <tr>\n",
              "      <th>1</th>\n",
              "      <td>2</td>\n",
              "      <td>0</td>\n",
              "      <td>C757503768</td>\n",
              "      <td>0</td>\n",
              "      <td>M</td>\n",
              "      <td>M348934600</td>\n",
              "      <td>es_transportation</td>\n",
              "      <td>35.72</td>\n",
              "      <td>0</td>\n",
              "    </tr>\n",
              "    <tr>\n",
              "      <th>2</th>\n",
              "      <td>3</td>\n",
              "      <td>0</td>\n",
              "      <td>C105845174</td>\n",
              "      <td>0</td>\n",
              "      <td>M</td>\n",
              "      <td>M348934600</td>\n",
              "      <td>es_transportation</td>\n",
              "      <td>32.40</td>\n",
              "      <td>0</td>\n",
              "    </tr>\n",
              "    <tr>\n",
              "      <th>3</th>\n",
              "      <td>4</td>\n",
              "      <td>0</td>\n",
              "      <td>C623601481</td>\n",
              "      <td>0</td>\n",
              "      <td>M</td>\n",
              "      <td>M50039827</td>\n",
              "      <td>es_health</td>\n",
              "      <td>68.79</td>\n",
              "      <td>0</td>\n",
              "    </tr>\n",
              "    <tr>\n",
              "      <th>4</th>\n",
              "      <td>5</td>\n",
              "      <td>0</td>\n",
              "      <td>C1865204568</td>\n",
              "      <td>0</td>\n",
              "      <td>M</td>\n",
              "      <td>M1823072687</td>\n",
              "      <td>es_transportation</td>\n",
              "      <td>20.32</td>\n",
              "      <td>0</td>\n",
              "    </tr>\n",
              "  </tbody>\n",
              "</table>\n",
              "</div>"
            ],
            "text/plain": [
              "   id  step     customer  ...           category amount fraud_prediction\n",
              "0   1     0   C352968107  ...  es_transportation  39.68                0\n",
              "1   2     0   C757503768  ...  es_transportation  35.72                0\n",
              "2   3     0   C105845174  ...  es_transportation  32.40                0\n",
              "3   4     0   C623601481  ...          es_health  68.79                0\n",
              "4   5     0  C1865204568  ...  es_transportation  20.32                0\n",
              "\n",
              "[5 rows x 9 columns]"
            ]
          },
          "metadata": {
            "tags": []
          },
          "execution_count": 87
        }
      ]
    },
    {
      "cell_type": "code",
      "metadata": {
        "colab": {
          "base_uri": "https://localhost:8080/",
          "height": 77
        },
        "id": "7kmyn46P1QVf",
        "outputId": "e1077013-0b61-4d3f-b6ae-ea275053d4ce"
      },
      "source": [
        "pd.read_sql_query(\"\"\"\n",
        "SELECT count(*) FROM fraud_detection\n",
        "    \"\"\", conn)"
      ],
      "execution_count": null,
      "outputs": [
        {
          "output_type": "execute_result",
          "data": {
            "text/html": [
              "<div>\n",
              "<style scoped>\n",
              "    .dataframe tbody tr th:only-of-type {\n",
              "        vertical-align: middle;\n",
              "    }\n",
              "\n",
              "    .dataframe tbody tr th {\n",
              "        vertical-align: top;\n",
              "    }\n",
              "\n",
              "    .dataframe thead th {\n",
              "        text-align: right;\n",
              "    }\n",
              "</style>\n",
              "<table border=\"1\" class=\"dataframe\">\n",
              "  <thead>\n",
              "    <tr style=\"text-align: right;\">\n",
              "      <th></th>\n",
              "      <th>count</th>\n",
              "    </tr>\n",
              "  </thead>\n",
              "  <tbody>\n",
              "    <tr>\n",
              "      <th>0</th>\n",
              "      <td>148661</td>\n",
              "    </tr>\n",
              "  </tbody>\n",
              "</table>\n",
              "</div>"
            ],
            "text/plain": [
              "    count\n",
              "0  148661"
            ]
          },
          "metadata": {
            "tags": []
          },
          "execution_count": 86
        }
      ]
    }
  ]
}